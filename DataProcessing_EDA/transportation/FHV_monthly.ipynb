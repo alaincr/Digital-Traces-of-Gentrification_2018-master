{
 "cells": [
  {
   "cell_type": "code",
   "execution_count": 1,
   "metadata": {},
   "outputs": [
    {
     "name": "stdout",
     "output_type": "stream",
     "text": [
      "Populating the interactive namespace from numpy and matplotlib\n"
     ]
    },
    {
     "name": "stderr",
     "output_type": "stream",
     "text": [
      "/usr/local/Anaconda3-5.0.0-Linux-x86_64/envs/PUI2016_Python2/lib/python2.7/site-packages/IPython/core/magics/pylab.py:161: UserWarning: pylab import has clobbered these variables: ['plt']\n",
      "`%matplotlib` prevents importing * from pylab and numpy\n",
      "  \"\\n`%matplotlib` prevents importing * from pylab and numpy\"\n"
     ]
    }
   ],
   "source": [
    "import pandas as pd\n",
    "import numpy as np\n",
    "import matplotlib.pylab as plt\n",
    "%pylab inline"
   ]
  },
  {
   "cell_type": "markdown",
   "metadata": {},
   "source": [
    "## Download FHV data"
   ]
  },
  {
   "cell_type": "code",
   "execution_count": 2,
   "metadata": {},
   "outputs": [],
   "source": [
    "# df1 = pd.read_csv('https://s3.amazonaws.com/nyc-tlc/trip+data/fhv_tripdata_2017-01.csv')\n",
    "# df2 = pd.read_csv('https://s3.amazonaws.com/nyc-tlc/trip+data/fhv_tripdata_2017-02.csv')\n",
    "# df3 = pd.read_csv('https://s3.amazonaws.com/nyc-tlc/trip+data/fhv_tripdata_2017-03.csv')\n",
    "# df4 = pd.read_csv('https://s3.amazonaws.com/nyc-tlc/trip+data/fhv_tripdata_2017-04.csv')\n",
    "# df5 = pd.read_csv('https://s3.amazonaws.com/nyc-tlc/trip+data/fhv_tripdata_2017-05.csv')\n",
    "# df6 = pd.read_csv('https://s3.amazonaws.com/nyc-tlc/trip+data/fhv_tripdata_2017-06.csv')\n",
    "# df7 = pd.read_csv('https://s3.amazonaws.com/nyc-tlc/trip+data/fhv_tripdata_2017-07.csv')\n",
    "# df8 = pd.read_csv('https://s3.amazonaws.com/nyc-tlc/trip+data/fhv_tripdata_2017-08.csv')\n",
    "# df9 = pd.read_csv('https://s3.amazonaws.com/nyc-tlc/trip+data/fhv_tripdata_2017-09.csv')\n",
    "# df10 = pd.read_csv('https://s3.amazonaws.com/nyc-tlc/trip+data/fhv_tripdata_2017-10.csv')\n",
    "# df11 = pd.read_csv('https://s3.amazonaws.com/nyc-tlc/trip+data/fhv_tripdata_2017-11.csv')\n",
    "# df12 = pd.read_csv('https://s3.amazonaws.com/nyc-tlc/trip+data/fhv_tripdata_2017-12.csv')"
   ]
  },
  {
   "cell_type": "code",
   "execution_count": 3,
   "metadata": {},
   "outputs": [],
   "source": [
    "# df1 = pd.read_csv('https://s3.amazonaws.com/nyc-tlc/trip+data/fhv_tripdata_2016-01.csv')\n",
    "# df2 = pd.read_csv('https://s3.amazonaws.com/nyc-tlc/trip+data/fhv_tripdata_2016-02.csv')\n",
    "# df3 = pd.read_csv('https://s3.amazonaws.com/nyc-tlc/trip+data/fhv_tripdata_2016-03.csv')\n",
    "# df4 = pd.read_csv('https://s3.amazonaws.com/nyc-tlc/trip+data/fhv_tripdata_2016-04.csv')\n",
    "# df5 = pd.read_csv('https://s3.amazonaws.com/nyc-tlc/trip+data/fhv_tripdata_2016-05.csv')\n",
    "# df6 = pd.read_csv('https://s3.amazonaws.com/nyc-tlc/trip+data/fhv_tripdata_2016-06.csv')\n",
    "# df7 = pd.read_csv('https://s3.amazonaws.com/nyc-tlc/trip+data/fhv_tripdata_2016-07.csv')\n",
    "# df8 = pd.read_csv('https://s3.amazonaws.com/nyc-tlc/trip+data/fhv_tripdata_2016-08.csv')\n",
    "# df9 = pd.read_csv('https://s3.amazonaws.com/nyc-tlc/trip+data/fhv_tripdata_2016-09.csv')\n",
    "# df10 = pd.read_csv('https://s3.amazonaws.com/nyc-tlc/trip+data/fhv_tripdata_2016-10.csv')\n",
    "# df11 = pd.read_csv('https://s3.amazonaws.com/nyc-tlc/trip+data/fhv_tripdata_2016-11.csv')\n",
    "# df12 = pd.read_csv('https://s3.amazonaws.com/nyc-tlc/trip+data/fhv_tripdata_2016-12.csv')"
   ]
  },
  {
   "cell_type": "code",
   "execution_count": 4,
   "metadata": {},
   "outputs": [],
   "source": [
    "# df1 = pd.read_csv('https://s3.amazonaws.com/nyc-tlc/trip+data/fhv_tripdata_2015-01.csv')\n",
    "# df2 = pd.read_csv('https://s3.amazonaws.com/nyc-tlc/trip+data/fhv_tripdata_2015-02.csv')\n",
    "# df3 = pd.read_csv('https://s3.amazonaws.com/nyc-tlc/trip+data/fhv_tripdata_2015-03.csv')\n",
    "# df4 = pd.read_csv('https://s3.amazonaws.com/nyc-tlc/trip+data/fhv_tripdata_2015-04.csv')\n",
    "# df5 = pd.read_csv('https://s3.amazonaws.com/nyc-tlc/trip+data/fhv_tripdata_2015-05.csv')\n",
    "# df6 = pd.read_csv('https://s3.amazonaws.com/nyc-tlc/trip+data/fhv_tripdata_2015-06.csv')\n",
    "# df7 = pd.read_csv('https://s3.amazonaws.com/nyc-tlc/trip+data/fhv_tripdata_2015-07.csv')\n",
    "# df8 = pd.read_csv('https://s3.amazonaws.com/nyc-tlc/trip+data/fhv_tripdata_2015-08.csv')\n",
    "# df9 = pd.read_csv('https://s3.amazonaws.com/nyc-tlc/trip+data/fhv_tripdata_2015-09.csv')\n",
    "df10 = pd.read_csv('https://s3.amazonaws.com/nyc-tlc/trip+data/fhv_tripdata_2015-10.csv')\n",
    "df11 = pd.read_csv('https://s3.amazonaws.com/nyc-tlc/trip+data/fhv_tripdata_2015-11.csv')\n",
    "df12 = pd.read_csv('https://s3.amazonaws.com/nyc-tlc/trip+data/fhv_tripdata_2015-12.csv')"
   ]
  },
  {
   "cell_type": "code",
   "execution_count": 5,
   "metadata": {},
   "outputs": [],
   "source": [
    "df = pd.concat([df10,df11,df12])"
   ]
  },
  {
   "cell_type": "code",
   "execution_count": 6,
   "metadata": {},
   "outputs": [],
   "source": [
    "df['trip'] = 1"
   ]
  },
  {
   "cell_type": "code",
   "execution_count": 7,
   "metadata": {},
   "outputs": [],
   "source": [
    "# df_pick = df[['Pickup_DateTime','PUlocationID','trip']].dropna(subset=['PUlocationID'])\n",
    "# df_drop = df[['Pickup_DateTime','DOlocationID','trip']].dropna(subset=['DOlocationID'])"
   ]
  },
  {
   "cell_type": "code",
   "execution_count": 8,
   "metadata": {},
   "outputs": [],
   "source": [
    "# df_pick = df_pick[df_pick.PUlocationID!=0]\n",
    "# df_drop = df_drop[df_drop.DOlocationID!=0]"
   ]
  },
  {
   "cell_type": "code",
   "execution_count": 9,
   "metadata": {},
   "outputs": [],
   "source": [
    "df_pick = df[['Pickup_date','locationID','trip']].dropna(subset=['locationID'])\n",
    "df_pick = df_pick[df_pick.locationID!=0]"
   ]
  },
  {
   "cell_type": "code",
   "execution_count": 10,
   "metadata": {},
   "outputs": [
    {
     "data": {
      "text/html": [
       "<div>\n",
       "<table border=\"1\" class=\"dataframe\">\n",
       "  <thead>\n",
       "    <tr style=\"text-align: right;\">\n",
       "      <th></th>\n",
       "      <th>Pickup_date</th>\n",
       "      <th>locationID</th>\n",
       "      <th>trip</th>\n",
       "    </tr>\n",
       "  </thead>\n",
       "  <tbody>\n",
       "    <tr>\n",
       "      <th>35393</th>\n",
       "      <td>2015-10-01 00:03:00</td>\n",
       "      <td>264.0</td>\n",
       "      <td>1</td>\n",
       "    </tr>\n",
       "    <tr>\n",
       "      <th>35394</th>\n",
       "      <td>2015-10-01 00:18:00</td>\n",
       "      <td>264.0</td>\n",
       "      <td>1</td>\n",
       "    </tr>\n",
       "    <tr>\n",
       "      <th>35395</th>\n",
       "      <td>2015-10-01 00:18:00</td>\n",
       "      <td>264.0</td>\n",
       "      <td>1</td>\n",
       "    </tr>\n",
       "    <tr>\n",
       "      <th>35396</th>\n",
       "      <td>2015-10-01 00:20:00</td>\n",
       "      <td>264.0</td>\n",
       "      <td>1</td>\n",
       "    </tr>\n",
       "    <tr>\n",
       "      <th>35397</th>\n",
       "      <td>2015-10-01 00:24:00</td>\n",
       "      <td>264.0</td>\n",
       "      <td>1</td>\n",
       "    </tr>\n",
       "  </tbody>\n",
       "</table>\n",
       "</div>"
      ],
      "text/plain": [
       "               Pickup_date  locationID  trip\n",
       "35393  2015-10-01 00:03:00       264.0     1\n",
       "35394  2015-10-01 00:18:00       264.0     1\n",
       "35395  2015-10-01 00:18:00       264.0     1\n",
       "35396  2015-10-01 00:20:00       264.0     1\n",
       "35397  2015-10-01 00:24:00       264.0     1"
      ]
     },
     "execution_count": 10,
     "metadata": {},
     "output_type": "execute_result"
    }
   ],
   "source": [
    "df_pick.head()"
   ]
  },
  {
   "cell_type": "code",
   "execution_count": 11,
   "metadata": {},
   "outputs": [],
   "source": [
    "#df_drop.head()"
   ]
  },
  {
   "cell_type": "code",
   "execution_count": 12,
   "metadata": {},
   "outputs": [
    {
     "data": {
      "text/plain": [
       "(17292204, 3)"
      ]
     },
     "execution_count": 12,
     "metadata": {},
     "output_type": "execute_result"
    }
   ],
   "source": [
    "df_pick.shape"
   ]
  },
  {
   "cell_type": "code",
   "execution_count": 13,
   "metadata": {},
   "outputs": [],
   "source": [
    "#df_drop.shape"
   ]
  },
  {
   "cell_type": "code",
   "execution_count": 14,
   "metadata": {},
   "outputs": [],
   "source": [
    "# df_pick['month'] = df_pick['Pickup_DateTime'].apply(lambda x: int(x[5:7]))\n",
    "# df_drop['month'] = df_drop['Pickup_DateTime'].apply(lambda x: int(x[5:7]))"
   ]
  },
  {
   "cell_type": "code",
   "execution_count": 15,
   "metadata": {},
   "outputs": [],
   "source": [
    "df_pick['month'] = df_pick['Pickup_date'].apply(lambda x: int(x[5:7]))"
   ]
  },
  {
   "cell_type": "code",
   "execution_count": 16,
   "metadata": {},
   "outputs": [],
   "source": [
    "# fhv_pick = df_pick.groupby(['month','PUlocationID']).trip.sum().unstack().T.reset_index()\n",
    "# fhv_drop = df_drop.groupby(['month','DOlocationID']).trip.sum().unstack().T.reset_index()"
   ]
  },
  {
   "cell_type": "code",
   "execution_count": 17,
   "metadata": {},
   "outputs": [],
   "source": [
    "fhv_pick = df_pick.groupby(['month','locationID']).trip.sum().unstack().T.reset_index()"
   ]
  },
  {
   "cell_type": "code",
   "execution_count": 18,
   "metadata": {},
   "outputs": [
    {
     "data": {
      "text/html": [
       "<div>\n",
       "<table border=\"1\" class=\"dataframe\">\n",
       "  <thead>\n",
       "    <tr style=\"text-align: right;\">\n",
       "      <th>month</th>\n",
       "      <th>locationID</th>\n",
       "      <th>10</th>\n",
       "      <th>11</th>\n",
       "      <th>12</th>\n",
       "    </tr>\n",
       "  </thead>\n",
       "  <tbody>\n",
       "    <tr>\n",
       "      <th>0</th>\n",
       "      <td>1.0</td>\n",
       "      <td>626</td>\n",
       "      <td>5465</td>\n",
       "      <td>5853</td>\n",
       "    </tr>\n",
       "    <tr>\n",
       "      <th>1</th>\n",
       "      <td>2.0</td>\n",
       "      <td>148</td>\n",
       "      <td>169</td>\n",
       "      <td>165</td>\n",
       "    </tr>\n",
       "    <tr>\n",
       "      <th>2</th>\n",
       "      <td>3.0</td>\n",
       "      <td>2735</td>\n",
       "      <td>6140</td>\n",
       "      <td>6247</td>\n",
       "    </tr>\n",
       "    <tr>\n",
       "      <th>3</th>\n",
       "      <td>4.0</td>\n",
       "      <td>31421</td>\n",
       "      <td>29656</td>\n",
       "      <td>31108</td>\n",
       "    </tr>\n",
       "    <tr>\n",
       "      <th>4</th>\n",
       "      <td>5.0</td>\n",
       "      <td>78</td>\n",
       "      <td>134</td>\n",
       "      <td>229</td>\n",
       "    </tr>\n",
       "  </tbody>\n",
       "</table>\n",
       "</div>"
      ],
      "text/plain": [
       "month  locationID     10     11     12\n",
       "0             1.0    626   5465   5853\n",
       "1             2.0    148    169    165\n",
       "2             3.0   2735   6140   6247\n",
       "3             4.0  31421  29656  31108\n",
       "4             5.0     78    134    229"
      ]
     },
     "execution_count": 18,
     "metadata": {},
     "output_type": "execute_result"
    }
   ],
   "source": [
    "fhv_pick.head()"
   ]
  },
  {
   "cell_type": "code",
   "execution_count": 19,
   "metadata": {},
   "outputs": [],
   "source": [
    "#fhv_drop.head()"
   ]
  },
  {
   "cell_type": "code",
   "execution_count": 20,
   "metadata": {},
   "outputs": [],
   "source": [
    "fhv_pick.columns = ['LocationID', 1510, 1511, 1512]\n",
    "#fhv_drop.columns = ['LocationID', 1710, 1711, 1712]"
   ]
  },
  {
   "cell_type": "code",
   "execution_count": 36,
   "metadata": {},
   "outputs": [
    {
     "data": {
      "text/html": [
       "<div>\n",
       "<table border=\"1\" class=\"dataframe\">\n",
       "  <thead>\n",
       "    <tr style=\"text-align: right;\">\n",
       "      <th></th>\n",
       "      <th>LocationID</th>\n",
       "      <th>1510</th>\n",
       "      <th>1511</th>\n",
       "      <th>1512</th>\n",
       "    </tr>\n",
       "  </thead>\n",
       "  <tbody>\n",
       "    <tr>\n",
       "      <th>0</th>\n",
       "      <td>1.0</td>\n",
       "      <td>626</td>\n",
       "      <td>5465</td>\n",
       "      <td>5853</td>\n",
       "    </tr>\n",
       "    <tr>\n",
       "      <th>1</th>\n",
       "      <td>2.0</td>\n",
       "      <td>148</td>\n",
       "      <td>169</td>\n",
       "      <td>165</td>\n",
       "    </tr>\n",
       "    <tr>\n",
       "      <th>2</th>\n",
       "      <td>3.0</td>\n",
       "      <td>2735</td>\n",
       "      <td>6140</td>\n",
       "      <td>6247</td>\n",
       "    </tr>\n",
       "    <tr>\n",
       "      <th>3</th>\n",
       "      <td>4.0</td>\n",
       "      <td>31421</td>\n",
       "      <td>29656</td>\n",
       "      <td>31108</td>\n",
       "    </tr>\n",
       "    <tr>\n",
       "      <th>4</th>\n",
       "      <td>5.0</td>\n",
       "      <td>78</td>\n",
       "      <td>134</td>\n",
       "      <td>229</td>\n",
       "    </tr>\n",
       "  </tbody>\n",
       "</table>\n",
       "</div>"
      ],
      "text/plain": [
       "   LocationID   1510   1511   1512\n",
       "0         1.0    626   5465   5853\n",
       "1         2.0    148    169    165\n",
       "2         3.0   2735   6140   6247\n",
       "3         4.0  31421  29656  31108\n",
       "4         5.0     78    134    229"
      ]
     },
     "execution_count": 36,
     "metadata": {},
     "output_type": "execute_result"
    }
   ],
   "source": [
    "fhv_pick.head()"
   ]
  },
  {
   "cell_type": "code",
   "execution_count": 22,
   "metadata": {},
   "outputs": [],
   "source": [
    "#fhv_drop"
   ]
  },
  {
   "cell_type": "code",
   "execution_count": 24,
   "metadata": {},
   "outputs": [],
   "source": [
    "fhv_pick.to_csv('FHV_data/fhv15_pick_4.csv')\n",
    "#fhv_drop.to_csv('FHV_data/fhv16_drop_2.csv')"
   ]
  },
  {
   "cell_type": "markdown",
   "metadata": {},
   "source": [
    "## Merge the monthly data"
   ]
  },
  {
   "cell_type": "code",
   "execution_count": 25,
   "metadata": {},
   "outputs": [],
   "source": [
    "# Read the quarterly data\n",
    "df1_pick = pd.read_csv('FHV_data/fhv15_pick_1.csv')\n",
    "#df1_drop = pd.read_csv('FHV_data/fhv17_drop_1.csv')\n",
    "df2_pick = pd.read_csv('FHV_data/fhv15_pick_2.csv')\n",
    "#df2_drop = pd.read_csv('FHV_data/fhv17_drop_2.csv')\n",
    "df3_pick = pd.read_csv('FHV_data/fhv15_pick_3.csv')\n",
    "#df3_drop = pd.read_csv('FHV_data/fhv17_drop_3.csv')\n",
    "df4_pick = pd.read_csv('FHV_data/fhv15_pick_4.csv')\n",
    "#df4_drop = pd.read_csv('FHV_data/fhv17_drop_4.csv')\n",
    "\n",
    "\n",
    "del df1_pick['Unnamed: 0']\n",
    "#del df1_drop['Unnamed: 0']\n",
    "del df2_pick['Unnamed: 0']\n",
    "#del df2_drop['Unnamed: 0']\n",
    "del df3_pick['Unnamed: 0']\n",
    "#del df3_drop['Unnamed: 0']\n",
    "del df4_pick['Unnamed: 0']\n",
    "#del df4_drop['Unnamed: 0']"
   ]
  },
  {
   "cell_type": "code",
   "execution_count": 26,
   "metadata": {},
   "outputs": [],
   "source": [
    "#Merge the quarterly data together\n",
    "df_pick = pd.merge(df1_pick,df2_pick,how='outer',on='LocationID')\n",
    "df_pick = pd.merge(df_pick,df3_pick,how='outer',on='LocationID')\n",
    "df_pick = pd.merge(df_pick,df4_pick,how='outer',on='LocationID')\n",
    "\n",
    "# df_drop = pd.merge(df1_drop,df2_drop,how='outer',on='LocationID')\n",
    "# df_drop = pd.merge(df_drop,df3_drop,how='outer',on='LocationID')\n",
    "# df_drop = pd.merge(df_drop,df4_drop,how='outer',on='LocationID')"
   ]
  },
  {
   "cell_type": "code",
   "execution_count": 35,
   "metadata": {},
   "outputs": [
    {
     "data": {
      "text/html": [
       "<div>\n",
       "<table border=\"1\" class=\"dataframe\">\n",
       "  <thead>\n",
       "    <tr style=\"text-align: right;\">\n",
       "      <th></th>\n",
       "      <th>LocationID</th>\n",
       "      <th>1501</th>\n",
       "      <th>1502</th>\n",
       "      <th>1503</th>\n",
       "      <th>1504</th>\n",
       "      <th>1505</th>\n",
       "      <th>1506</th>\n",
       "      <th>1507</th>\n",
       "      <th>1508</th>\n",
       "      <th>1509</th>\n",
       "      <th>...</th>\n",
       "      <th>1703</th>\n",
       "      <th>1704</th>\n",
       "      <th>1705</th>\n",
       "      <th>1706</th>\n",
       "      <th>1707</th>\n",
       "      <th>1708</th>\n",
       "      <th>1709</th>\n",
       "      <th>1710</th>\n",
       "      <th>1711</th>\n",
       "      <th>1712</th>\n",
       "    </tr>\n",
       "  </thead>\n",
       "  <tbody>\n",
       "    <tr>\n",
       "      <th>0</th>\n",
       "      <td>1.0</td>\n",
       "      <td>44.0</td>\n",
       "      <td>53.0</td>\n",
       "      <td>61.0</td>\n",
       "      <td>10.0</td>\n",
       "      <td>27.0</td>\n",
       "      <td>34.0</td>\n",
       "      <td>62.0</td>\n",
       "      <td>4752.0</td>\n",
       "      <td>403.0</td>\n",
       "      <td>...</td>\n",
       "      <td>961.0</td>\n",
       "      <td>1075.0</td>\n",
       "      <td>1018.0</td>\n",
       "      <td>2389.0</td>\n",
       "      <td>2826.0</td>\n",
       "      <td>2767.0</td>\n",
       "      <td>2669.0</td>\n",
       "      <td>2813.0</td>\n",
       "      <td>2746.0</td>\n",
       "      <td>2820.0</td>\n",
       "    </tr>\n",
       "    <tr>\n",
       "      <th>1</th>\n",
       "      <td>2.0</td>\n",
       "      <td>122.0</td>\n",
       "      <td>117.0</td>\n",
       "      <td>176.0</td>\n",
       "      <td>137.0</td>\n",
       "      <td>263.0</td>\n",
       "      <td>11.0</td>\n",
       "      <td>35.0</td>\n",
       "      <td>29.0</td>\n",
       "      <td>188.0</td>\n",
       "      <td>...</td>\n",
       "      <td>14.0</td>\n",
       "      <td>33.0</td>\n",
       "      <td>33.0</td>\n",
       "      <td>34.0</td>\n",
       "      <td>31.0</td>\n",
       "      <td>28.0</td>\n",
       "      <td>32.0</td>\n",
       "      <td>29.0</td>\n",
       "      <td>14.0</td>\n",
       "      <td>21.0</td>\n",
       "    </tr>\n",
       "    <tr>\n",
       "      <th>2</th>\n",
       "      <td>3.0</td>\n",
       "      <td>833.0</td>\n",
       "      <td>1227.0</td>\n",
       "      <td>2307.0</td>\n",
       "      <td>868.0</td>\n",
       "      <td>1167.0</td>\n",
       "      <td>996.0</td>\n",
       "      <td>1033.0</td>\n",
       "      <td>1437.0</td>\n",
       "      <td>1523.0</td>\n",
       "      <td>...</td>\n",
       "      <td>14183.0</td>\n",
       "      <td>14061.0</td>\n",
       "      <td>14941.0</td>\n",
       "      <td>14603.0</td>\n",
       "      <td>15676.0</td>\n",
       "      <td>16185.0</td>\n",
       "      <td>16011.0</td>\n",
       "      <td>17437.0</td>\n",
       "      <td>19432.0</td>\n",
       "      <td>22273.0</td>\n",
       "    </tr>\n",
       "    <tr>\n",
       "      <th>3</th>\n",
       "      <td>4.0</td>\n",
       "      <td>12404.0</td>\n",
       "      <td>13034.0</td>\n",
       "      <td>14055.0</td>\n",
       "      <td>15192.0</td>\n",
       "      <td>17709.0</td>\n",
       "      <td>18474.0</td>\n",
       "      <td>21359.0</td>\n",
       "      <td>26487.0</td>\n",
       "      <td>27630.0</td>\n",
       "      <td>...</td>\n",
       "      <td>57316.0</td>\n",
       "      <td>53870.0</td>\n",
       "      <td>56929.0</td>\n",
       "      <td>59098.0</td>\n",
       "      <td>63526.0</td>\n",
       "      <td>62657.0</td>\n",
       "      <td>65216.0</td>\n",
       "      <td>72416.0</td>\n",
       "      <td>68604.0</td>\n",
       "      <td>76835.0</td>\n",
       "    </tr>\n",
       "    <tr>\n",
       "      <th>4</th>\n",
       "      <td>5.0</td>\n",
       "      <td>8.0</td>\n",
       "      <td>2.0</td>\n",
       "      <td>8.0</td>\n",
       "      <td>10.0</td>\n",
       "      <td>18.0</td>\n",
       "      <td>20.0</td>\n",
       "      <td>7.0</td>\n",
       "      <td>33.0</td>\n",
       "      <td>37.0</td>\n",
       "      <td>...</td>\n",
       "      <td>1286.0</td>\n",
       "      <td>1295.0</td>\n",
       "      <td>1406.0</td>\n",
       "      <td>1888.0</td>\n",
       "      <td>1943.0</td>\n",
       "      <td>1950.0</td>\n",
       "      <td>1602.0</td>\n",
       "      <td>1894.0</td>\n",
       "      <td>2124.0</td>\n",
       "      <td>2422.0</td>\n",
       "    </tr>\n",
       "  </tbody>\n",
       "</table>\n",
       "<p>5 rows × 37 columns</p>\n",
       "</div>"
      ],
      "text/plain": [
       "   LocationID     1501     1502     1503     1504     1505     1506     1507  \\\n",
       "0         1.0     44.0     53.0     61.0     10.0     27.0     34.0     62.0   \n",
       "1         2.0    122.0    117.0    176.0    137.0    263.0     11.0     35.0   \n",
       "2         3.0    833.0   1227.0   2307.0    868.0   1167.0    996.0   1033.0   \n",
       "3         4.0  12404.0  13034.0  14055.0  15192.0  17709.0  18474.0  21359.0   \n",
       "4         5.0      8.0      2.0      8.0     10.0     18.0     20.0      7.0   \n",
       "\n",
       "      1508     1509   ...        1703     1704     1705     1706     1707  \\\n",
       "0   4752.0    403.0   ...       961.0   1075.0   1018.0   2389.0   2826.0   \n",
       "1     29.0    188.0   ...        14.0     33.0     33.0     34.0     31.0   \n",
       "2   1437.0   1523.0   ...     14183.0  14061.0  14941.0  14603.0  15676.0   \n",
       "3  26487.0  27630.0   ...     57316.0  53870.0  56929.0  59098.0  63526.0   \n",
       "4     33.0     37.0   ...      1286.0   1295.0   1406.0   1888.0   1943.0   \n",
       "\n",
       "      1708     1709     1710     1711     1712  \n",
       "0   2767.0   2669.0   2813.0   2746.0   2820.0  \n",
       "1     28.0     32.0     29.0     14.0     21.0  \n",
       "2  16185.0  16011.0  17437.0  19432.0  22273.0  \n",
       "3  62657.0  65216.0  72416.0  68604.0  76835.0  \n",
       "4   1950.0   1602.0   1894.0   2124.0   2422.0  \n",
       "\n",
       "[5 rows x 37 columns]"
      ]
     },
     "execution_count": 35,
     "metadata": {},
     "output_type": "execute_result"
    }
   ],
   "source": [
    "df_pick.head()"
   ]
  },
  {
   "cell_type": "code",
   "execution_count": 28,
   "metadata": {},
   "outputs": [],
   "source": [
    "#df_drop"
   ]
  },
  {
   "cell_type": "code",
   "execution_count": 29,
   "metadata": {},
   "outputs": [],
   "source": [
    "df_pick.to_csv('FHV_data/fhv15_pick_monthly.csv')\n",
    "#df_drop.to_csv('FHV_data/fhv17_drop_monthly.csv')"
   ]
  },
  {
   "cell_type": "markdown",
   "metadata": {},
   "source": [
    "## Merge Monthly data"
   ]
  },
  {
   "cell_type": "code",
   "execution_count": 31,
   "metadata": {},
   "outputs": [],
   "source": [
    "# df1 = pd.read_csv('FHV_data/fhv15_pick_monthly.csv')\n",
    "# df2 = pd.read_csv('FHV_data/fhv16_pick_monthly.csv')\n",
    "# df3 = pd.read_csv('FHV_data/fhv17_pick_monthly.csv')\n",
    "\n",
    "# del df1['Unnamed: 0']\n",
    "# del df2['Unnamed: 0']\n",
    "# del df3['Unnamed: 0']"
   ]
  },
  {
   "cell_type": "code",
   "execution_count": 32,
   "metadata": {},
   "outputs": [],
   "source": [
    "# df_pick = pd.merge(df1,df2,how='outer',on='LocationID')\n",
    "# df_pick = pd.merge(df_pick,df3,how='outer',on='LocationID')"
   ]
  },
  {
   "cell_type": "code",
   "execution_count": 34,
   "metadata": {},
   "outputs": [],
   "source": [
    "# df_pick.to_csv('FHV_data/fhv_pick_monthly.csv')"
   ]
  },
  {
   "cell_type": "code",
   "execution_count": null,
   "metadata": {},
   "outputs": [],
   "source": []
  },
  {
   "cell_type": "code",
   "execution_count": 22,
   "metadata": {},
   "outputs": [
    {
     "name": "stdout",
     "output_type": "stream",
     "text": [
      "<class 'pandas.core.frame.DataFrame'>\n",
      "RangeIndex: 19821305 entries, 0 to 19821304\n",
      "Data columns (total 5 columns):\n",
      "Dispatching_base_num    object\n",
      "Pickup_DateTime         object\n",
      "DropOff_datetime        object\n",
      "PUlocationID            float64\n",
      "DOlocationID            float64\n",
      "dtypes: float64(2), object(3)\n",
      "memory usage: 756.1+ MB\n"
     ]
    }
   ],
   "source": [
    "df12.info()"
   ]
  },
  {
   "cell_type": "code",
   "execution_count": 24,
   "metadata": {},
   "outputs": [
    {
     "name": "stdout",
     "output_type": "stream",
     "text": [
      "<class 'pandas.core.frame.DataFrame'>\n",
      "RangeIndex: 13911421 entries, 0 to 13911420\n",
      "Data columns (total 3 columns):\n",
      "Dispatching_base_num    object\n",
      "Pickup_date             object\n",
      "locationID              float64\n",
      "dtypes: float64(1), object(2)\n",
      "memory usage: 318.4+ MB\n"
     ]
    }
   ],
   "source": [
    "df_12.info()"
   ]
  },
  {
   "cell_type": "code",
   "execution_count": 15,
   "metadata": {},
   "outputs": [
    {
     "data": {
      "text/html": [
       "<div>\n",
       "<table border=\"1\" class=\"dataframe\">\n",
       "  <thead>\n",
       "    <tr style=\"text-align: right;\">\n",
       "      <th></th>\n",
       "      <th>Dispatching_base_num</th>\n",
       "      <th>Pickup_date</th>\n",
       "      <th>locationID</th>\n",
       "    </tr>\n",
       "  </thead>\n",
       "  <tbody>\n",
       "    <tr>\n",
       "      <th>0</th>\n",
       "      <td>B00001</td>\n",
       "      <td>2016-01-01 00:30:00</td>\n",
       "      <td>NaN</td>\n",
       "    </tr>\n",
       "    <tr>\n",
       "      <th>1</th>\n",
       "      <td>B00001</td>\n",
       "      <td>2016-01-01 00:30:00</td>\n",
       "      <td>NaN</td>\n",
       "    </tr>\n",
       "    <tr>\n",
       "      <th>2</th>\n",
       "      <td>B00001</td>\n",
       "      <td>2016-01-01 02:30:00</td>\n",
       "      <td>NaN</td>\n",
       "    </tr>\n",
       "    <tr>\n",
       "      <th>3</th>\n",
       "      <td>B00001</td>\n",
       "      <td>2016-01-01 07:00:00</td>\n",
       "      <td>NaN</td>\n",
       "    </tr>\n",
       "    <tr>\n",
       "      <th>4</th>\n",
       "      <td>B00001</td>\n",
       "      <td>2016-01-01 08:45:00</td>\n",
       "      <td>NaN</td>\n",
       "    </tr>\n",
       "  </tbody>\n",
       "</table>\n",
       "</div>"
      ],
      "text/plain": [
       "  Dispatching_base_num          Pickup_date  locationID\n",
       "0               B00001  2016-01-01 00:30:00         NaN\n",
       "1               B00001  2016-01-01 00:30:00         NaN\n",
       "2               B00001  2016-01-01 02:30:00         NaN\n",
       "3               B00001  2016-01-01 07:00:00         NaN\n",
       "4               B00001  2016-01-01 08:45:00         NaN"
      ]
     },
     "execution_count": 15,
     "metadata": {},
     "output_type": "execute_result"
    }
   ],
   "source": [
    "df_1.head()"
   ]
  },
  {
   "cell_type": "code",
   "execution_count": null,
   "metadata": {},
   "outputs": [],
   "source": []
  }
 ],
 "metadata": {
  "kernelspec": {
   "display_name": "PUI2016_Python2",
   "language": "python",
   "name": "pui2016_python2"
  },
  "language_info": {
   "codemirror_mode": {
    "name": "ipython",
    "version": 2
   },
   "file_extension": ".py",
   "mimetype": "text/x-python",
   "name": "python",
   "nbconvert_exporter": "python",
   "pygments_lexer": "ipython2",
   "version": "2.7.12"
  }
 },
 "nbformat": 4,
 "nbformat_minor": 2
}
