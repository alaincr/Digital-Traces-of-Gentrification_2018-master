{
 "cells": [
  {
   "cell_type": "code",
   "execution_count": 1,
   "metadata": {},
   "outputs": [
    {
     "name": "stdout",
     "output_type": "stream",
     "text": [
      "Populating the interactive namespace from numpy and matplotlib\n"
     ]
    },
    {
     "name": "stderr",
     "output_type": "stream",
     "text": [
      "/usr/local/Anaconda3-5.0.0-Linux-x86_64/envs/PUI2016_Python3/lib/python3.5/site-packages/IPython/core/magics/pylab.py:161: UserWarning: pylab import has clobbered these variables: ['plt']\n",
      "`%matplotlib` prevents importing * from pylab and numpy\n",
      "  \"\\n`%matplotlib` prevents importing * from pylab and numpy\"\n"
     ]
    }
   ],
   "source": [
    "import pandas as pd\n",
    "import numpy as np\n",
    "import matplotlib.pylab as plt\n",
    "import geopandas as gpd\n",
    "from shapely.geometry import Point\n",
    "import fiona\n",
    "%pylab inline"
   ]
  },
  {
   "cell_type": "code",
   "execution_count": 2,
   "metadata": {},
   "outputs": [],
   "source": [
    "# df = pd.read_csv(\"https://data.cityofnewyork.us/api/views/pqfs-mqru/rows.csv?query=select+*+where+%60lpep_pickup_datetime%60+%3E%3D+%272016-01-01T00%3A00%3A00%27+AND+%60lpep_pickup_datetime%60+%3C+%272016-06-30T23%3A59%3A59%27&read_from_nbe=true&version=2.1&accessType=DOWNLOAD\")"
   ]
  },
  {
   "cell_type": "code",
   "execution_count": 3,
   "metadata": {},
   "outputs": [],
   "source": [
    "#2015 green taxi\n",
    "#df = pd.read_csv('https://data.cityofnewyork.us/api/views/utt9-dvgj/rows.csv?accessType=DOWNLOAD&bom=true&query=select+*+where+%60lpep_pickup_datetime%60+%3E%3D+%272015-01-01T00%3A00%3A00%27+AND+%60lpep_pickup_datetime%60+%3C+%272015-03-31T00%3A00%3A00%27')"
   ]
  },
  {
   "cell_type": "code",
   "execution_count": 4,
   "metadata": {},
   "outputs": [],
   "source": [
    "#2014 green taxi\n",
    "# df = pd.read_csv('https://data.cityofnewyork.us/api/views/7j25-xd5y/rows.csv?query=select+*+where+%60lpep_pickup_datetime%60+%3E%3D+%272014-10-01T00%3A00%3A00%27+AND+%60lpep_pickup_datetime%60+%3C+%272014-12-31T23%3A59%3A59%27&read_from_nbe=true&version=2.1&accessType=DOWNLOAD')"
   ]
  },
  {
   "cell_type": "code",
   "execution_count": 2,
   "metadata": {},
   "outputs": [],
   "source": [
    "#2013 green taxi\n",
    "df = pd.read_csv('https://data.cityofnewyork.us/api/views/h4pe-ymjc/rows.csv?accessType=DOWNLOAD')"
   ]
  },
  {
   "cell_type": "code",
   "execution_count": 3,
   "metadata": {},
   "outputs": [
    {
     "name": "stdout",
     "output_type": "stream",
     "text": [
      "<class 'pandas.core.frame.DataFrame'>\n",
      "RangeIndex: 1210811 entries, 0 to 1210810\n",
      "Data columns (total 20 columns):\n",
      "pickup_datetime       1210811 non-null object\n",
      "dropoff_datetime      1210811 non-null object\n",
      "Store_and_fwd_flag    1210811 non-null object\n",
      "rate_code             1210811 non-null int64\n",
      "Dropoff_latitude      1210811 non-null float64\n",
      "Passenger_count       1210811 non-null int64\n",
      "Trip_distance         1210811 non-null float64\n",
      "Fare_amount           1210811 non-null float64\n",
      "Extra                 1210811 non-null float64\n",
      "MTA_tax               1210811 non-null float64\n",
      "Tip_amount            1210811 non-null float64\n",
      "Tolls_amount          1210811 non-null float64\n",
      "Ehail_fee             0 non-null float64\n",
      "Total_amount          1210811 non-null float64\n",
      "Payment_type          1210811 non-null int64\n",
      "Trip_type             15211 non-null float64\n",
      "Pickup_longitude      1210811 non-null float64\n",
      "Pickup_latitude       1210811 non-null float64\n",
      "Dropoff_longitude     1210811 non-null float64\n",
      "vendor_id             1210811 non-null int64\n",
      "dtypes: float64(13), int64(4), object(3)\n",
      "memory usage: 184.8+ MB\n"
     ]
    }
   ],
   "source": [
    "df.info()"
   ]
  },
  {
   "cell_type": "code",
   "execution_count": 4,
   "metadata": {},
   "outputs": [
    {
     "data": {
      "text/plain": [
       "Index(['pickup_datetime', 'dropoff_datetime', 'Store_and_fwd_flag',\n",
       "       'rate_code', 'Dropoff_latitude', 'Passenger_count', 'Trip_distance',\n",
       "       'Fare_amount', 'Extra', 'MTA_tax', 'Tip_amount', 'Tolls_amount',\n",
       "       'Ehail_fee', 'Total_amount', 'Payment_type', 'Trip_type',\n",
       "       'Pickup_longitude', 'Pickup_latitude', 'Dropoff_longitude',\n",
       "       'vendor_id'],\n",
       "      dtype='object')"
      ]
     },
     "execution_count": 4,
     "metadata": {},
     "output_type": "execute_result"
    }
   ],
   "source": [
    "df.columns"
   ]
  },
  {
   "cell_type": "code",
   "execution_count": 5,
   "metadata": {},
   "outputs": [],
   "source": [
    "df = df[['pickup_datetime', 'Pickup_longitude', \n",
    "         'Pickup_latitude', 'Dropoff_longitude',\n",
    "         'Dropoff_latitude', 'Passenger_count']]"
   ]
  },
  {
   "cell_type": "code",
   "execution_count": 6,
   "metadata": {},
   "outputs": [],
   "source": [
    "# df = df[['lpep_pickup_datetime',\n",
    "#        'PULocationID', 'DOLocationID',\n",
    "#        'Passenger_count']]"
   ]
  },
  {
   "cell_type": "code",
   "execution_count": 7,
   "metadata": {},
   "outputs": [
    {
     "data": {
      "text/plain": [
       "(1210811, 6)"
      ]
     },
     "execution_count": 7,
     "metadata": {},
     "output_type": "execute_result"
    }
   ],
   "source": [
    "df.shape"
   ]
  },
  {
   "cell_type": "code",
   "execution_count": 8,
   "metadata": {},
   "outputs": [],
   "source": [
    "df['month'] = df['pickup_datetime'].apply(lambda x: int(x[:2]))"
   ]
  },
  {
   "cell_type": "code",
   "execution_count": 9,
   "metadata": {},
   "outputs": [],
   "source": [
    "df_pick = df[['month','Pickup_longitude','Pickup_latitude','Passenger_count']]\n",
    "df_drop = df[['month','Dropoff_longitude','Dropoff_latitude','Passenger_count']]"
   ]
  },
  {
   "cell_type": "code",
   "execution_count": 10,
   "metadata": {},
   "outputs": [
    {
     "data": {
      "text/html": [
       "<div>\n",
       "<table border=\"1\" class=\"dataframe\">\n",
       "  <thead>\n",
       "    <tr style=\"text-align: right;\">\n",
       "      <th></th>\n",
       "      <th>month</th>\n",
       "      <th>Pickup_longitude</th>\n",
       "      <th>Pickup_latitude</th>\n",
       "      <th>Passenger_count</th>\n",
       "    </tr>\n",
       "  </thead>\n",
       "  <tbody>\n",
       "    <tr>\n",
       "      <th>0</th>\n",
       "      <td>9</td>\n",
       "      <td>0.000000</td>\n",
       "      <td>0.00000</td>\n",
       "      <td>1</td>\n",
       "    </tr>\n",
       "    <tr>\n",
       "      <th>1</th>\n",
       "      <td>11</td>\n",
       "      <td>-73.929573</td>\n",
       "      <td>40.75436</td>\n",
       "      <td>1</td>\n",
       "    </tr>\n",
       "    <tr>\n",
       "      <th>2</th>\n",
       "      <td>9</td>\n",
       "      <td>0.000000</td>\n",
       "      <td>0.00000</td>\n",
       "      <td>1</td>\n",
       "    </tr>\n",
       "    <tr>\n",
       "      <th>3</th>\n",
       "      <td>10</td>\n",
       "      <td>0.000000</td>\n",
       "      <td>0.00000</td>\n",
       "      <td>1</td>\n",
       "    </tr>\n",
       "    <tr>\n",
       "      <th>4</th>\n",
       "      <td>10</td>\n",
       "      <td>0.000000</td>\n",
       "      <td>0.00000</td>\n",
       "      <td>1</td>\n",
       "    </tr>\n",
       "  </tbody>\n",
       "</table>\n",
       "</div>"
      ],
      "text/plain": [
       "   month  Pickup_longitude  Pickup_latitude  Passenger_count\n",
       "0      9          0.000000          0.00000                1\n",
       "1     11        -73.929573         40.75436                1\n",
       "2      9          0.000000          0.00000                1\n",
       "3     10          0.000000          0.00000                1\n",
       "4     10          0.000000          0.00000                1"
      ]
     },
     "execution_count": 10,
     "metadata": {},
     "output_type": "execute_result"
    }
   ],
   "source": [
    "df_pick.head()"
   ]
  },
  {
   "cell_type": "code",
   "execution_count": 11,
   "metadata": {},
   "outputs": [
    {
     "data": {
      "text/html": [
       "<div>\n",
       "<table border=\"1\" class=\"dataframe\">\n",
       "  <thead>\n",
       "    <tr style=\"text-align: right;\">\n",
       "      <th></th>\n",
       "      <th>month</th>\n",
       "      <th>Dropoff_longitude</th>\n",
       "      <th>Dropoff_latitude</th>\n",
       "      <th>Passenger_count</th>\n",
       "    </tr>\n",
       "  </thead>\n",
       "  <tbody>\n",
       "    <tr>\n",
       "      <th>0</th>\n",
       "      <td>9</td>\n",
       "      <td>0.0</td>\n",
       "      <td>0.0</td>\n",
       "      <td>1</td>\n",
       "    </tr>\n",
       "    <tr>\n",
       "      <th>1</th>\n",
       "      <td>11</td>\n",
       "      <td>0.0</td>\n",
       "      <td>0.0</td>\n",
       "      <td>1</td>\n",
       "    </tr>\n",
       "    <tr>\n",
       "      <th>2</th>\n",
       "      <td>9</td>\n",
       "      <td>0.0</td>\n",
       "      <td>0.0</td>\n",
       "      <td>1</td>\n",
       "    </tr>\n",
       "    <tr>\n",
       "      <th>3</th>\n",
       "      <td>10</td>\n",
       "      <td>0.0</td>\n",
       "      <td>0.0</td>\n",
       "      <td>1</td>\n",
       "    </tr>\n",
       "    <tr>\n",
       "      <th>4</th>\n",
       "      <td>10</td>\n",
       "      <td>0.0</td>\n",
       "      <td>0.0</td>\n",
       "      <td>1</td>\n",
       "    </tr>\n",
       "  </tbody>\n",
       "</table>\n",
       "</div>"
      ],
      "text/plain": [
       "   month  Dropoff_longitude  Dropoff_latitude  Passenger_count\n",
       "0      9                0.0               0.0                1\n",
       "1     11                0.0               0.0                1\n",
       "2      9                0.0               0.0                1\n",
       "3     10                0.0               0.0                1\n",
       "4     10                0.0               0.0                1"
      ]
     },
     "execution_count": 11,
     "metadata": {},
     "output_type": "execute_result"
    }
   ],
   "source": [
    "df_drop.head()"
   ]
  },
  {
   "cell_type": "code",
   "execution_count": 15,
   "metadata": {},
   "outputs": [],
   "source": [
    "df = []"
   ]
  },
  {
   "cell_type": "markdown",
   "metadata": {},
   "source": [
    "## Binning by zipcode"
   ]
  },
  {
   "cell_type": "code",
   "execution_count": 16,
   "metadata": {},
   "outputs": [],
   "source": [
    "zipcode = gpd.read_file('ZIP_CODE/ZIP_CODE_040114.shp')\n",
    "zipcode = zipcode.to_crs(epsg=4326)"
   ]
  },
  {
   "cell_type": "code",
   "execution_count": 17,
   "metadata": {},
   "outputs": [],
   "source": [
    "zipcode = zipcode[['ZIPCODE','geometry']]"
   ]
  },
  {
   "cell_type": "code",
   "execution_count": 18,
   "metadata": {},
   "outputs": [],
   "source": [
    "crs = {'init' :'epsg:4326'}"
   ]
  },
  {
   "cell_type": "code",
   "execution_count": 19,
   "metadata": {},
   "outputs": [],
   "source": [
    "pick = [Point(xy) for xy in zip(df_pick.Pickup_longitude, df_pick.Pickup_latitude)]\n",
    "drop = [Point(xy) for xy in zip(df_drop.Dropoff_longitude, df_drop.Dropoff_latitude)]"
   ]
  },
  {
   "cell_type": "code",
   "execution_count": 20,
   "metadata": {},
   "outputs": [],
   "source": [
    "pick_gdf = gpd.GeoDataFrame(df_pick[['Passenger_count','month']], geometry=pick, crs=crs)\n",
    "drop_gdf = gpd.GeoDataFrame(df_drop[['Passenger_count','month']], geometry=drop, crs=crs)"
   ]
  },
  {
   "cell_type": "code",
   "execution_count": 21,
   "metadata": {},
   "outputs": [
    {
     "name": "stdout",
     "output_type": "stream",
     "text": [
      "Warning: CRS does not match!\n"
     ]
    }
   ],
   "source": [
    "pick_gdf = gpd.sjoin(pick_gdf, zipcode, how='right', op='within').reset_index()"
   ]
  },
  {
   "cell_type": "code",
   "execution_count": 22,
   "metadata": {},
   "outputs": [
    {
     "name": "stdout",
     "output_type": "stream",
     "text": [
      "Warning: CRS does not match!\n"
     ]
    }
   ],
   "source": [
    "drop_gdf = gpd.sjoin(drop_gdf, zipcode, how='right', op='within').reset_index()"
   ]
  },
  {
   "cell_type": "code",
   "execution_count": 23,
   "metadata": {},
   "outputs": [
    {
     "data": {
      "text/html": [
       "<div>\n",
       "<table border=\"1\" class=\"dataframe\">\n",
       "  <thead>\n",
       "    <tr style=\"text-align: right;\">\n",
       "      <th></th>\n",
       "      <th>index_right</th>\n",
       "      <th>index_left</th>\n",
       "      <th>Passenger_count</th>\n",
       "      <th>month</th>\n",
       "      <th>ZIPCODE</th>\n",
       "      <th>geometry</th>\n",
       "    </tr>\n",
       "  </thead>\n",
       "  <tbody>\n",
       "    <tr>\n",
       "      <th>0</th>\n",
       "      <td>0</td>\n",
       "      <td>1165753.0</td>\n",
       "      <td>1.0</td>\n",
       "      <td>12.0</td>\n",
       "      <td>11436</td>\n",
       "      <td>POLYGON ((-73.80584847647394 40.68290932644247...</td>\n",
       "    </tr>\n",
       "    <tr>\n",
       "      <th>1</th>\n",
       "      <td>0</td>\n",
       "      <td>1031527.0</td>\n",
       "      <td>1.0</td>\n",
       "      <td>11.0</td>\n",
       "      <td>11436</td>\n",
       "      <td>POLYGON ((-73.80584847647394 40.68290932644247...</td>\n",
       "    </tr>\n",
       "    <tr>\n",
       "      <th>2</th>\n",
       "      <td>0</td>\n",
       "      <td>1042726.0</td>\n",
       "      <td>1.0</td>\n",
       "      <td>11.0</td>\n",
       "      <td>11436</td>\n",
       "      <td>POLYGON ((-73.80584847647394 40.68290932644247...</td>\n",
       "    </tr>\n",
       "    <tr>\n",
       "      <th>3</th>\n",
       "      <td>0</td>\n",
       "      <td>271146.0</td>\n",
       "      <td>2.0</td>\n",
       "      <td>12.0</td>\n",
       "      <td>11436</td>\n",
       "      <td>POLYGON ((-73.80584847647394 40.68290932644247...</td>\n",
       "    </tr>\n",
       "    <tr>\n",
       "      <th>4</th>\n",
       "      <td>0</td>\n",
       "      <td>513332.0</td>\n",
       "      <td>1.0</td>\n",
       "      <td>12.0</td>\n",
       "      <td>11436</td>\n",
       "      <td>POLYGON ((-73.80584847647394 40.68290932644247...</td>\n",
       "    </tr>\n",
       "  </tbody>\n",
       "</table>\n",
       "</div>"
      ],
      "text/plain": [
       "   index_right  index_left  Passenger_count  month ZIPCODE  \\\n",
       "0            0   1165753.0              1.0   12.0   11436   \n",
       "1            0   1031527.0              1.0   11.0   11436   \n",
       "2            0   1042726.0              1.0   11.0   11436   \n",
       "3            0    271146.0              2.0   12.0   11436   \n",
       "4            0    513332.0              1.0   12.0   11436   \n",
       "\n",
       "                                            geometry  \n",
       "0  POLYGON ((-73.80584847647394 40.68290932644247...  \n",
       "1  POLYGON ((-73.80584847647394 40.68290932644247...  \n",
       "2  POLYGON ((-73.80584847647394 40.68290932644247...  \n",
       "3  POLYGON ((-73.80584847647394 40.68290932644247...  \n",
       "4  POLYGON ((-73.80584847647394 40.68290932644247...  "
      ]
     },
     "execution_count": 23,
     "metadata": {},
     "output_type": "execute_result"
    }
   ],
   "source": [
    "pick_gdf.head()"
   ]
  },
  {
   "cell_type": "code",
   "execution_count": 24,
   "metadata": {},
   "outputs": [
    {
     "data": {
      "text/html": [
       "<div>\n",
       "<table border=\"1\" class=\"dataframe\">\n",
       "  <thead>\n",
       "    <tr style=\"text-align: right;\">\n",
       "      <th></th>\n",
       "      <th>index_right</th>\n",
       "      <th>index_left</th>\n",
       "      <th>Passenger_count</th>\n",
       "      <th>month</th>\n",
       "      <th>ZIPCODE</th>\n",
       "      <th>geometry</th>\n",
       "    </tr>\n",
       "  </thead>\n",
       "  <tbody>\n",
       "    <tr>\n",
       "      <th>0</th>\n",
       "      <td>0</td>\n",
       "      <td>937242.0</td>\n",
       "      <td>1.0</td>\n",
       "      <td>12.0</td>\n",
       "      <td>11436</td>\n",
       "      <td>POLYGON ((-73.80584847647394 40.68290932644247...</td>\n",
       "    </tr>\n",
       "    <tr>\n",
       "      <th>1</th>\n",
       "      <td>0</td>\n",
       "      <td>701387.0</td>\n",
       "      <td>1.0</td>\n",
       "      <td>12.0</td>\n",
       "      <td>11436</td>\n",
       "      <td>POLYGON ((-73.80584847647394 40.68290932644247...</td>\n",
       "    </tr>\n",
       "    <tr>\n",
       "      <th>2</th>\n",
       "      <td>0</td>\n",
       "      <td>304785.0</td>\n",
       "      <td>1.0</td>\n",
       "      <td>12.0</td>\n",
       "      <td>11436</td>\n",
       "      <td>POLYGON ((-73.80584847647394 40.68290932644247...</td>\n",
       "    </tr>\n",
       "    <tr>\n",
       "      <th>3</th>\n",
       "      <td>0</td>\n",
       "      <td>471002.0</td>\n",
       "      <td>1.0</td>\n",
       "      <td>10.0</td>\n",
       "      <td>11436</td>\n",
       "      <td>POLYGON ((-73.80584847647394 40.68290932644247...</td>\n",
       "    </tr>\n",
       "    <tr>\n",
       "      <th>4</th>\n",
       "      <td>0</td>\n",
       "      <td>684191.0</td>\n",
       "      <td>1.0</td>\n",
       "      <td>11.0</td>\n",
       "      <td>11436</td>\n",
       "      <td>POLYGON ((-73.80584847647394 40.68290932644247...</td>\n",
       "    </tr>\n",
       "  </tbody>\n",
       "</table>\n",
       "</div>"
      ],
      "text/plain": [
       "   index_right  index_left  Passenger_count  month ZIPCODE  \\\n",
       "0            0    937242.0              1.0   12.0   11436   \n",
       "1            0    701387.0              1.0   12.0   11436   \n",
       "2            0    304785.0              1.0   12.0   11436   \n",
       "3            0    471002.0              1.0   10.0   11436   \n",
       "4            0    684191.0              1.0   11.0   11436   \n",
       "\n",
       "                                            geometry  \n",
       "0  POLYGON ((-73.80584847647394 40.68290932644247...  \n",
       "1  POLYGON ((-73.80584847647394 40.68290932644247...  \n",
       "2  POLYGON ((-73.80584847647394 40.68290932644247...  \n",
       "3  POLYGON ((-73.80584847647394 40.68290932644247...  \n",
       "4  POLYGON ((-73.80584847647394 40.68290932644247...  "
      ]
     },
     "execution_count": 24,
     "metadata": {},
     "output_type": "execute_result"
    }
   ],
   "source": [
    "drop_gdf.head()"
   ]
  },
  {
   "cell_type": "code",
   "execution_count": 25,
   "metadata": {},
   "outputs": [],
   "source": [
    "del pick_gdf['index_right']\n",
    "del pick_gdf['index_left']\n",
    "del pick_gdf['geometry']"
   ]
  },
  {
   "cell_type": "code",
   "execution_count": 26,
   "metadata": {},
   "outputs": [],
   "source": [
    "del drop_gdf['index_right']\n",
    "del drop_gdf['index_left']\n",
    "del drop_gdf['geometry']"
   ]
  },
  {
   "cell_type": "code",
   "execution_count": 27,
   "metadata": {},
   "outputs": [],
   "source": [
    "pick_gdf = pick_gdf.fillna(0)\n",
    "drop_gdf = drop_gdf.fillna(0)"
   ]
  },
  {
   "cell_type": "markdown",
   "metadata": {},
   "source": [
    "## Groupby Month"
   ]
  },
  {
   "cell_type": "code",
   "execution_count": 28,
   "metadata": {},
   "outputs": [],
   "source": [
    "# taxi17_pick = df.groupby(['month','PULocationID']).Passenger_count.sum().unstack().T.reset_index()\n",
    "# taxi17_drop = df.groupby(['month','DOLocationID']).Passenger_count.sum().unstack().T.reset_index()"
   ]
  },
  {
   "cell_type": "code",
   "execution_count": 29,
   "metadata": {},
   "outputs": [],
   "source": [
    "# taxi17_pick.columns = ['PULocationID', 1607, 1608, 1609, 1610, 1611, 1612]\n",
    "# taxi17_drop.columns = ['DOLocationID', 1607, 1608, 1609, 1610, 1611, 1612]"
   ]
  },
  {
   "cell_type": "code",
   "execution_count": 30,
   "metadata": {},
   "outputs": [],
   "source": [
    "# taxi17_pick.to_csv('taxi_data/taxi16_pick_monthly2.csv')\n",
    "# taxi17_drop.to_csv('taxi_data/taxi16_drop_monthly2.csv')"
   ]
  },
  {
   "cell_type": "code",
   "execution_count": 31,
   "metadata": {},
   "outputs": [],
   "source": [
    "taxi_pick = pick_gdf.groupby(['month','ZIPCODE']).Passenger_count.sum().unstack().T.reset_index().fillna(0)\n",
    "taxi_drop = drop_gdf.groupby(['month','ZIPCODE']).Passenger_count.sum().unstack().T.reset_index().fillna(0)"
   ]
  },
  {
   "cell_type": "code",
   "execution_count": 32,
   "metadata": {},
   "outputs": [],
   "source": [
    "del taxi_pick[0]\n",
    "del taxi_drop[0]"
   ]
  },
  {
   "cell_type": "code",
   "execution_count": 33,
   "metadata": {},
   "outputs": [
    {
     "data": {
      "text/html": [
       "<div>\n",
       "<table border=\"1\" class=\"dataframe\">\n",
       "  <thead>\n",
       "    <tr style=\"text-align: right;\">\n",
       "      <th>month</th>\n",
       "      <th>ZIPCODE</th>\n",
       "      <th>8.0</th>\n",
       "      <th>9.0</th>\n",
       "      <th>10.0</th>\n",
       "      <th>11.0</th>\n",
       "      <th>12.0</th>\n",
       "    </tr>\n",
       "  </thead>\n",
       "  <tbody>\n",
       "    <tr>\n",
       "      <th>0</th>\n",
       "      <td>00083</td>\n",
       "      <td>8.0</td>\n",
       "      <td>61.0</td>\n",
       "      <td>185.0</td>\n",
       "      <td>280.0</td>\n",
       "      <td>920.0</td>\n",
       "    </tr>\n",
       "    <tr>\n",
       "      <th>1</th>\n",
       "      <td>10001</td>\n",
       "      <td>0.0</td>\n",
       "      <td>1.0</td>\n",
       "      <td>5.0</td>\n",
       "      <td>9.0</td>\n",
       "      <td>10.0</td>\n",
       "    </tr>\n",
       "    <tr>\n",
       "      <th>2</th>\n",
       "      <td>10002</td>\n",
       "      <td>6.0</td>\n",
       "      <td>7.0</td>\n",
       "      <td>13.0</td>\n",
       "      <td>18.0</td>\n",
       "      <td>4.0</td>\n",
       "    </tr>\n",
       "    <tr>\n",
       "      <th>3</th>\n",
       "      <td>10003</td>\n",
       "      <td>0.0</td>\n",
       "      <td>0.0</td>\n",
       "      <td>0.0</td>\n",
       "      <td>10.0</td>\n",
       "      <td>20.0</td>\n",
       "    </tr>\n",
       "    <tr>\n",
       "      <th>4</th>\n",
       "      <td>10004</td>\n",
       "      <td>0.0</td>\n",
       "      <td>3.0</td>\n",
       "      <td>2.0</td>\n",
       "      <td>1.0</td>\n",
       "      <td>1.0</td>\n",
       "    </tr>\n",
       "  </tbody>\n",
       "</table>\n",
       "</div>"
      ],
      "text/plain": [
       "month ZIPCODE  8.0   9.0   10.0   11.0   12.0\n",
       "0       00083  8.0  61.0  185.0  280.0  920.0\n",
       "1       10001  0.0   1.0    5.0    9.0   10.0\n",
       "2       10002  6.0   7.0   13.0   18.0    4.0\n",
       "3       10003  0.0   0.0    0.0   10.0   20.0\n",
       "4       10004  0.0   3.0    2.0    1.0    1.0"
      ]
     },
     "execution_count": 33,
     "metadata": {},
     "output_type": "execute_result"
    }
   ],
   "source": [
    "taxi_pick.head()"
   ]
  },
  {
   "cell_type": "code",
   "execution_count": 34,
   "metadata": {},
   "outputs": [
    {
     "data": {
      "text/html": [
       "<div>\n",
       "<table border=\"1\" class=\"dataframe\">\n",
       "  <thead>\n",
       "    <tr style=\"text-align: right;\">\n",
       "      <th>month</th>\n",
       "      <th>ZIPCODE</th>\n",
       "      <th>8.0</th>\n",
       "      <th>9.0</th>\n",
       "      <th>10.0</th>\n",
       "      <th>11.0</th>\n",
       "      <th>12.0</th>\n",
       "    </tr>\n",
       "  </thead>\n",
       "  <tbody>\n",
       "    <tr>\n",
       "      <th>0</th>\n",
       "      <td>00083</td>\n",
       "      <td>62.0</td>\n",
       "      <td>370.0</td>\n",
       "      <td>1418.0</td>\n",
       "      <td>3442.0</td>\n",
       "      <td>4480.0</td>\n",
       "    </tr>\n",
       "    <tr>\n",
       "      <th>1</th>\n",
       "      <td>10001</td>\n",
       "      <td>207.0</td>\n",
       "      <td>1061.0</td>\n",
       "      <td>2814.0</td>\n",
       "      <td>6441.0</td>\n",
       "      <td>8982.0</td>\n",
       "    </tr>\n",
       "    <tr>\n",
       "      <th>2</th>\n",
       "      <td>10002</td>\n",
       "      <td>140.0</td>\n",
       "      <td>892.0</td>\n",
       "      <td>1967.0</td>\n",
       "      <td>4290.0</td>\n",
       "      <td>6312.0</td>\n",
       "    </tr>\n",
       "    <tr>\n",
       "      <th>3</th>\n",
       "      <td>10003</td>\n",
       "      <td>98.0</td>\n",
       "      <td>759.0</td>\n",
       "      <td>2168.0</td>\n",
       "      <td>4509.0</td>\n",
       "      <td>6632.0</td>\n",
       "    </tr>\n",
       "    <tr>\n",
       "      <th>4</th>\n",
       "      <td>10004</td>\n",
       "      <td>27.0</td>\n",
       "      <td>75.0</td>\n",
       "      <td>274.0</td>\n",
       "      <td>476.0</td>\n",
       "      <td>759.0</td>\n",
       "    </tr>\n",
       "  </tbody>\n",
       "</table>\n",
       "</div>"
      ],
      "text/plain": [
       "month ZIPCODE    8.0     9.0    10.0    11.0    12.0\n",
       "0       00083   62.0   370.0  1418.0  3442.0  4480.0\n",
       "1       10001  207.0  1061.0  2814.0  6441.0  8982.0\n",
       "2       10002  140.0   892.0  1967.0  4290.0  6312.0\n",
       "3       10003   98.0   759.0  2168.0  4509.0  6632.0\n",
       "4       10004   27.0    75.0   274.0   476.0   759.0"
      ]
     },
     "execution_count": 34,
     "metadata": {},
     "output_type": "execute_result"
    }
   ],
   "source": [
    "taxi_drop.head()"
   ]
  },
  {
   "cell_type": "code",
   "execution_count": 35,
   "metadata": {},
   "outputs": [],
   "source": [
    "taxi_pick.columns = ['ZIPCODE', 1308, 1309, 1310,1311,1312]\n",
    "taxi_drop.columns = ['ZIPCODE', 1308, 1309, 1310,1311,1312]\n",
    "# taxi_pick.columns = ['ZIPCODE', 1401, 1402, 1403, 1404, 1405, 1406, 1407, 1408, 1409, 1410, 1411, 1412]\n",
    "# taxi_drop.columns = ['ZIPCODE', 1401, 1402, 1403, 1404, 1405, 1406, 1407, 1408, 1409, 1410, 1411, 1412]"
   ]
  },
  {
   "cell_type": "code",
   "execution_count": 36,
   "metadata": {},
   "outputs": [],
   "source": [
    "taxi_pick.to_csv('taxi_data/taxi13_pick_monthly.csv')\n",
    "taxi_drop.to_csv('taxi_data/taxi13_drop_monthly.csv')"
   ]
  },
  {
   "cell_type": "code",
   "execution_count": 40,
   "metadata": {},
   "outputs": [
    {
     "data": {
      "text/html": [
       "<div>\n",
       "<table border=\"1\" class=\"dataframe\">\n",
       "  <thead>\n",
       "    <tr style=\"text-align: right;\">\n",
       "      <th></th>\n",
       "      <th>Unnamed: 0</th>\n",
       "      <th>ZIPCODE</th>\n",
       "      <th>1308</th>\n",
       "      <th>1309</th>\n",
       "      <th>1310</th>\n",
       "      <th>1311</th>\n",
       "      <th>1312</th>\n",
       "    </tr>\n",
       "  </thead>\n",
       "  <tbody>\n",
       "    <tr>\n",
       "      <th>0</th>\n",
       "      <td>0</td>\n",
       "      <td>83</td>\n",
       "      <td>8.0</td>\n",
       "      <td>61.0</td>\n",
       "      <td>185.0</td>\n",
       "      <td>280.0</td>\n",
       "      <td>920.0</td>\n",
       "    </tr>\n",
       "    <tr>\n",
       "      <th>1</th>\n",
       "      <td>1</td>\n",
       "      <td>10001</td>\n",
       "      <td>0.0</td>\n",
       "      <td>1.0</td>\n",
       "      <td>5.0</td>\n",
       "      <td>9.0</td>\n",
       "      <td>10.0</td>\n",
       "    </tr>\n",
       "    <tr>\n",
       "      <th>2</th>\n",
       "      <td>2</td>\n",
       "      <td>10002</td>\n",
       "      <td>6.0</td>\n",
       "      <td>7.0</td>\n",
       "      <td>13.0</td>\n",
       "      <td>18.0</td>\n",
       "      <td>4.0</td>\n",
       "    </tr>\n",
       "    <tr>\n",
       "      <th>3</th>\n",
       "      <td>3</td>\n",
       "      <td>10003</td>\n",
       "      <td>0.0</td>\n",
       "      <td>0.0</td>\n",
       "      <td>0.0</td>\n",
       "      <td>10.0</td>\n",
       "      <td>20.0</td>\n",
       "    </tr>\n",
       "    <tr>\n",
       "      <th>4</th>\n",
       "      <td>4</td>\n",
       "      <td>10004</td>\n",
       "      <td>0.0</td>\n",
       "      <td>3.0</td>\n",
       "      <td>2.0</td>\n",
       "      <td>1.0</td>\n",
       "      <td>1.0</td>\n",
       "    </tr>\n",
       "  </tbody>\n",
       "</table>\n",
       "</div>"
      ],
      "text/plain": [
       "   Unnamed: 0  ZIPCODE  1308  1309   1310   1311   1312\n",
       "0           0       83   8.0  61.0  185.0  280.0  920.0\n",
       "1           1    10001   0.0   1.0    5.0    9.0   10.0\n",
       "2           2    10002   6.0   7.0   13.0   18.0    4.0\n",
       "3           3    10003   0.0   0.0    0.0   10.0   20.0\n",
       "4           4    10004   0.0   3.0    2.0    1.0    1.0"
      ]
     },
     "execution_count": 40,
     "metadata": {},
     "output_type": "execute_result"
    }
   ],
   "source": [
    "df1_pick = pd.read_csv('taxi_data/taxi13_pick_monthly.csv')\n",
    "df1_drop = pd.read_csv('taxi_data/taxi13_drop_monthly.csv')\n",
    "df1_pick.head()"
   ]
  },
  {
   "cell_type": "code",
   "execution_count": 41,
   "metadata": {},
   "outputs": [
    {
     "data": {
      "text/html": [
       "<div>\n",
       "<table border=\"1\" class=\"dataframe\">\n",
       "  <thead>\n",
       "    <tr style=\"text-align: right;\">\n",
       "      <th></th>\n",
       "      <th>Unnamed: 0</th>\n",
       "      <th>ZIPCODE</th>\n",
       "      <th>1308</th>\n",
       "      <th>1309</th>\n",
       "      <th>1310</th>\n",
       "      <th>1311</th>\n",
       "      <th>1312</th>\n",
       "    </tr>\n",
       "  </thead>\n",
       "  <tbody>\n",
       "    <tr>\n",
       "      <th>0</th>\n",
       "      <td>0</td>\n",
       "      <td>83</td>\n",
       "      <td>62.0</td>\n",
       "      <td>370.0</td>\n",
       "      <td>1418.0</td>\n",
       "      <td>3442.0</td>\n",
       "      <td>4480.0</td>\n",
       "    </tr>\n",
       "    <tr>\n",
       "      <th>1</th>\n",
       "      <td>1</td>\n",
       "      <td>10001</td>\n",
       "      <td>207.0</td>\n",
       "      <td>1061.0</td>\n",
       "      <td>2814.0</td>\n",
       "      <td>6441.0</td>\n",
       "      <td>8982.0</td>\n",
       "    </tr>\n",
       "    <tr>\n",
       "      <th>2</th>\n",
       "      <td>2</td>\n",
       "      <td>10002</td>\n",
       "      <td>140.0</td>\n",
       "      <td>892.0</td>\n",
       "      <td>1967.0</td>\n",
       "      <td>4290.0</td>\n",
       "      <td>6312.0</td>\n",
       "    </tr>\n",
       "    <tr>\n",
       "      <th>3</th>\n",
       "      <td>3</td>\n",
       "      <td>10003</td>\n",
       "      <td>98.0</td>\n",
       "      <td>759.0</td>\n",
       "      <td>2168.0</td>\n",
       "      <td>4509.0</td>\n",
       "      <td>6632.0</td>\n",
       "    </tr>\n",
       "    <tr>\n",
       "      <th>4</th>\n",
       "      <td>4</td>\n",
       "      <td>10004</td>\n",
       "      <td>27.0</td>\n",
       "      <td>75.0</td>\n",
       "      <td>274.0</td>\n",
       "      <td>476.0</td>\n",
       "      <td>759.0</td>\n",
       "    </tr>\n",
       "  </tbody>\n",
       "</table>\n",
       "</div>"
      ],
      "text/plain": [
       "   Unnamed: 0  ZIPCODE   1308    1309    1310    1311    1312\n",
       "0           0       83   62.0   370.0  1418.0  3442.0  4480.0\n",
       "1           1    10001  207.0  1061.0  2814.0  6441.0  8982.0\n",
       "2           2    10002  140.0   892.0  1967.0  4290.0  6312.0\n",
       "3           3    10003   98.0   759.0  2168.0  4509.0  6632.0\n",
       "4           4    10004   27.0    75.0   274.0   476.0   759.0"
      ]
     },
     "execution_count": 41,
     "metadata": {},
     "output_type": "execute_result"
    }
   ],
   "source": [
    "df1_drop.head()"
   ]
  },
  {
   "cell_type": "code",
   "execution_count": 37,
   "metadata": {},
   "outputs": [],
   "source": [
    "# # Read the quarterly data\n",
    "# df1_pick = pd.read_csv('taxi_data/taxi14_pick_1.csv')\n",
    "# df1_drop = pd.read_csv('taxi_data/taxi14_drop_1.csv')\n",
    "# df2_pick = pd.read_csv('taxi_data/taxi14_pick_2.csv')\n",
    "# df2_drop = pd.read_csv('taxi_data/taxi14_drop_2.csv')\n",
    "# df3_pick = pd.read_csv('taxi_data/taxi14_pick_3.csv')\n",
    "# df3_drop = pd.read_csv('taxi_data/taxi14_drop_3.csv')\n",
    "# df4_pick = pd.read_csv('taxi_data/taxi14_pick_4.csv')\n",
    "# df4_drop = pd.read_csv('taxi_data/taxi14_drop_4.csv')\n",
    "\n",
    "# del df1_pick['Unnamed: 0']\n",
    "# del df1_drop['Unnamed: 0']\n",
    "# del df2_pick['Unnamed: 0']\n",
    "# del df2_drop['Unnamed: 0']\n",
    "# del df3_pick['Unnamed: 0']\n",
    "# del df3_drop['Unnamed: 0']\n",
    "# del df4_pick['Unnamed: 0']\n",
    "# del df4_drop['Unnamed: 0']"
   ]
  },
  {
   "cell_type": "code",
   "execution_count": 38,
   "metadata": {},
   "outputs": [],
   "source": [
    "# #Merge the quarterly data together\n",
    "# df_pick = pd.merge(df1_pick,df2_pick,on='ZIPCODE')\n",
    "# df_pick = pd.merge(df_pick,df3_pick,on='ZIPCODE')\n",
    "# df_pick = pd.merge(df_pick,df4_pick,on='ZIPCODE')\n",
    "\n",
    "# df_drop = pd.merge(df1_drop,df2_drop,on='ZIPCODE')\n",
    "# df_drop = pd.merge(df_drop,df3_drop,on='ZIPCODE')\n",
    "# df_drop = pd.merge(df_drop,df4_drop,on='ZIPCODE')"
   ]
  },
  {
   "cell_type": "code",
   "execution_count": 42,
   "metadata": {},
   "outputs": [],
   "source": [
    "# # Read the monthly data\n",
    "# df1_pick = pd.read_csv('taxi_data/taxi13_pick_monthly.csv')\n",
    "# df1_drop = pd.read_csv('taxi_data/taxi13_drop_monthly.csv')\n",
    "# df2_pick = pd.read_csv('taxi_data/taxi14_pick_monthly.csv')\n",
    "# df2_drop = pd.read_csv('taxi_data/taxi14_drop_monthly.csv')\n",
    "# df3_pick = pd.read_csv('taxi_data/taxi15_pick_monthly.csv')\n",
    "# df3_drop = pd.read_csv('taxi_data/taxi15_drop_monthly.csv')\n",
    "# df4_pick = pd.read_csv('taxi_data/taxi16_pick_monthly1.csv')\n",
    "# df4_drop = pd.read_csv('taxi_data/taxi16_drop_monthly1.csv')\n",
    "\n",
    "# del df1_pick['Unnamed: 0']\n",
    "# del df1_drop['Unnamed: 0']\n",
    "# del df2_pick['Unnamed: 0']\n",
    "# del df2_drop['Unnamed: 0']\n",
    "# del df3_pick['Unnamed: 0']\n",
    "# del df3_drop['Unnamed: 0']\n",
    "# del df4_pick['Unnamed: 0']\n",
    "# del df4_drop['Unnamed: 0']"
   ]
  },
  {
   "cell_type": "code",
   "execution_count": 43,
   "metadata": {},
   "outputs": [],
   "source": [
    "# #Merge the monthly data together\n",
    "# df_pick = pd.merge(df1_pick,df2_pick,on='ZIPCODE')\n",
    "# df_pick = pd.merge(df_pick,df3_pick,on='ZIPCODE')\n",
    "# df_pick = pd.merge(df_pick,df4_pick,on='ZIPCODE')\n",
    "\n",
    "# df_drop = pd.merge(df1_drop,df2_drop,on='ZIPCODE')\n",
    "# df_drop = pd.merge(df_drop,df3_drop,on='ZIPCODE')\n",
    "# df_drop = pd.merge(df_drop,df4_drop,on='ZIPCODE')"
   ]
  },
  {
   "cell_type": "code",
   "execution_count": 54,
   "metadata": {},
   "outputs": [
    {
     "data": {
      "text/html": [
       "<div>\n",
       "<table border=\"1\" class=\"dataframe\">\n",
       "  <thead>\n",
       "    <tr style=\"text-align: right;\">\n",
       "      <th></th>\n",
       "      <th>PULocationID</th>\n",
       "      <th>1607</th>\n",
       "      <th>1608</th>\n",
       "      <th>1609</th>\n",
       "      <th>1610</th>\n",
       "      <th>1611</th>\n",
       "      <th>1612</th>\n",
       "    </tr>\n",
       "  </thead>\n",
       "  <tbody>\n",
       "    <tr>\n",
       "      <th>0</th>\n",
       "      <td>1</td>\n",
       "      <td>1022.0</td>\n",
       "      <td>778.0</td>\n",
       "      <td>639.0</td>\n",
       "      <td>746.0</td>\n",
       "      <td>704.0</td>\n",
       "      <td>791.0</td>\n",
       "    </tr>\n",
       "    <tr>\n",
       "      <th>1</th>\n",
       "      <td>2</td>\n",
       "      <td>1.0</td>\n",
       "      <td>NaN</td>\n",
       "      <td>NaN</td>\n",
       "      <td>NaN</td>\n",
       "      <td>6.0</td>\n",
       "      <td>NaN</td>\n",
       "    </tr>\n",
       "    <tr>\n",
       "      <th>2</th>\n",
       "      <td>3</td>\n",
       "      <td>694.0</td>\n",
       "      <td>612.0</td>\n",
       "      <td>607.0</td>\n",
       "      <td>595.0</td>\n",
       "      <td>550.0</td>\n",
       "      <td>563.0</td>\n",
       "    </tr>\n",
       "    <tr>\n",
       "      <th>3</th>\n",
       "      <td>4</td>\n",
       "      <td>2900.0</td>\n",
       "      <td>2710.0</td>\n",
       "      <td>2481.0</td>\n",
       "      <td>2600.0</td>\n",
       "      <td>2295.0</td>\n",
       "      <td>2338.0</td>\n",
       "    </tr>\n",
       "    <tr>\n",
       "      <th>4</th>\n",
       "      <td>5</td>\n",
       "      <td>9.0</td>\n",
       "      <td>3.0</td>\n",
       "      <td>9.0</td>\n",
       "      <td>8.0</td>\n",
       "      <td>11.0</td>\n",
       "      <td>11.0</td>\n",
       "    </tr>\n",
       "  </tbody>\n",
       "</table>\n",
       "</div>"
      ],
      "text/plain": [
       "   PULocationID    1607    1608    1609    1610    1611    1612\n",
       "0             1  1022.0   778.0   639.0   746.0   704.0   791.0\n",
       "1             2     1.0     NaN     NaN     NaN     6.0     NaN\n",
       "2             3   694.0   612.0   607.0   595.0   550.0   563.0\n",
       "3             4  2900.0  2710.0  2481.0  2600.0  2295.0  2338.0\n",
       "4             5     9.0     3.0     9.0     8.0    11.0    11.0"
      ]
     },
     "execution_count": 54,
     "metadata": {},
     "output_type": "execute_result"
    }
   ],
   "source": [
    "df1_drop.head()"
   ]
  },
  {
   "cell_type": "code",
   "execution_count": 65,
   "metadata": {},
   "outputs": [],
   "source": [
    "#merge monthly data(16-17)\n",
    "df1_pick = pd.read_csv('taxi_data/taxi16_pick_monthly2.csv')\n",
    "df1_drop = pd.read_csv('taxi_data/taxi16_drop_monthly2.csv')\n",
    "df2_pick = pd.read_csv('taxi_data/taxi17_pick_monthly.csv')\n",
    "df2_drop = pd.read_csv('taxi_data/taxi17_drop_monthly.csv')\n",
    "\n",
    "del df1_pick['Unnamed: 0']\n",
    "del df1_drop['Unnamed: 0']\n",
    "del df2_pick['Unnamed: 0']\n",
    "del df2_drop['Unnamed: 0']\n",
    "\n",
    "df_pick = pd.merge(df1_pick,df2_pick,on='LocationID')\n",
    "df_drop = pd.merge(df1_drop,df2_drop,on='LocationID')"
   ]
  },
  {
   "cell_type": "code",
   "execution_count": 68,
   "metadata": {},
   "outputs": [
    {
     "data": {
      "text/html": [
       "<div>\n",
       "<table border=\"1\" class=\"dataframe\">\n",
       "  <thead>\n",
       "    <tr style=\"text-align: right;\">\n",
       "      <th></th>\n",
       "      <th>LocationID</th>\n",
       "      <th>1607</th>\n",
       "      <th>1608</th>\n",
       "      <th>1609</th>\n",
       "      <th>1610</th>\n",
       "      <th>1611</th>\n",
       "      <th>1612</th>\n",
       "      <th>1701</th>\n",
       "      <th>1702</th>\n",
       "      <th>1703</th>\n",
       "      <th>1704</th>\n",
       "      <th>1705</th>\n",
       "      <th>1706</th>\n",
       "      <th>1707</th>\n",
       "      <th>1708</th>\n",
       "      <th>1709</th>\n",
       "      <th>1710</th>\n",
       "      <th>1711</th>\n",
       "      <th>1712</th>\n",
       "    </tr>\n",
       "  </thead>\n",
       "  <tbody>\n",
       "    <tr>\n",
       "      <th>0</th>\n",
       "      <td>1</td>\n",
       "      <td>57.0</td>\n",
       "      <td>47.0</td>\n",
       "      <td>35.0</td>\n",
       "      <td>40.0</td>\n",
       "      <td>21.0</td>\n",
       "      <td>34.0</td>\n",
       "      <td>17.0</td>\n",
       "      <td>17.0</td>\n",
       "      <td>32.0</td>\n",
       "      <td>26.0</td>\n",
       "      <td>41.0</td>\n",
       "      <td>25.0</td>\n",
       "      <td>39.0</td>\n",
       "      <td>23.0</td>\n",
       "      <td>20.0</td>\n",
       "      <td>62.0</td>\n",
       "      <td>34.0</td>\n",
       "      <td>17.0</td>\n",
       "    </tr>\n",
       "    <tr>\n",
       "      <th>1</th>\n",
       "      <td>3</td>\n",
       "      <td>241.0</td>\n",
       "      <td>224.0</td>\n",
       "      <td>195.0</td>\n",
       "      <td>197.0</td>\n",
       "      <td>152.0</td>\n",
       "      <td>181.0</td>\n",
       "      <td>172.0</td>\n",
       "      <td>192.0</td>\n",
       "      <td>244.0</td>\n",
       "      <td>206.0</td>\n",
       "      <td>224.0</td>\n",
       "      <td>270.0</td>\n",
       "      <td>348.0</td>\n",
       "      <td>381.0</td>\n",
       "      <td>402.0</td>\n",
       "      <td>467.0</td>\n",
       "      <td>499.0</td>\n",
       "      <td>543.0</td>\n",
       "    </tr>\n",
       "    <tr>\n",
       "      <th>2</th>\n",
       "      <td>4</td>\n",
       "      <td>NaN</td>\n",
       "      <td>2.0</td>\n",
       "      <td>NaN</td>\n",
       "      <td>1.0</td>\n",
       "      <td>NaN</td>\n",
       "      <td>NaN</td>\n",
       "      <td>1.0</td>\n",
       "      <td>NaN</td>\n",
       "      <td>NaN</td>\n",
       "      <td>10.0</td>\n",
       "      <td>3.0</td>\n",
       "      <td>1.0</td>\n",
       "      <td>NaN</td>\n",
       "      <td>NaN</td>\n",
       "      <td>2.0</td>\n",
       "      <td>NaN</td>\n",
       "      <td>NaN</td>\n",
       "      <td>NaN</td>\n",
       "    </tr>\n",
       "    <tr>\n",
       "      <th>3</th>\n",
       "      <td>5</td>\n",
       "      <td>NaN</td>\n",
       "      <td>NaN</td>\n",
       "      <td>3.0</td>\n",
       "      <td>1.0</td>\n",
       "      <td>1.0</td>\n",
       "      <td>7.0</td>\n",
       "      <td>NaN</td>\n",
       "      <td>1.0</td>\n",
       "      <td>6.0</td>\n",
       "      <td>NaN</td>\n",
       "      <td>NaN</td>\n",
       "      <td>NaN</td>\n",
       "      <td>NaN</td>\n",
       "      <td>2.0</td>\n",
       "      <td>NaN</td>\n",
       "      <td>3.0</td>\n",
       "      <td>NaN</td>\n",
       "      <td>NaN</td>\n",
       "    </tr>\n",
       "    <tr>\n",
       "      <th>4</th>\n",
       "      <td>6</td>\n",
       "      <td>17.0</td>\n",
       "      <td>6.0</td>\n",
       "      <td>11.0</td>\n",
       "      <td>20.0</td>\n",
       "      <td>22.0</td>\n",
       "      <td>22.0</td>\n",
       "      <td>15.0</td>\n",
       "      <td>9.0</td>\n",
       "      <td>9.0</td>\n",
       "      <td>13.0</td>\n",
       "      <td>10.0</td>\n",
       "      <td>17.0</td>\n",
       "      <td>8.0</td>\n",
       "      <td>13.0</td>\n",
       "      <td>14.0</td>\n",
       "      <td>42.0</td>\n",
       "      <td>6.0</td>\n",
       "      <td>3.0</td>\n",
       "    </tr>\n",
       "  </tbody>\n",
       "</table>\n",
       "</div>"
      ],
      "text/plain": [
       "   LocationID   1607   1608   1609   1610   1611   1612   1701   1702   1703  \\\n",
       "0           1   57.0   47.0   35.0   40.0   21.0   34.0   17.0   17.0   32.0   \n",
       "1           3  241.0  224.0  195.0  197.0  152.0  181.0  172.0  192.0  244.0   \n",
       "2           4    NaN    2.0    NaN    1.0    NaN    NaN    1.0    NaN    NaN   \n",
       "3           5    NaN    NaN    3.0    1.0    1.0    7.0    NaN    1.0    6.0   \n",
       "4           6   17.0    6.0   11.0   20.0   22.0   22.0   15.0    9.0    9.0   \n",
       "\n",
       "    1704   1705   1706   1707   1708   1709   1710   1711   1712  \n",
       "0   26.0   41.0   25.0   39.0   23.0   20.0   62.0   34.0   17.0  \n",
       "1  206.0  224.0  270.0  348.0  381.0  402.0  467.0  499.0  543.0  \n",
       "2   10.0    3.0    1.0    NaN    NaN    2.0    NaN    NaN    NaN  \n",
       "3    NaN    NaN    NaN    NaN    2.0    NaN    3.0    NaN    NaN  \n",
       "4   13.0   10.0   17.0    8.0   13.0   14.0   42.0    6.0    3.0  "
      ]
     },
     "execution_count": 68,
     "metadata": {},
     "output_type": "execute_result"
    }
   ],
   "source": [
    "df_pick.head()"
   ]
  },
  {
   "cell_type": "code",
   "execution_count": 69,
   "metadata": {},
   "outputs": [
    {
     "data": {
      "text/html": [
       "<div>\n",
       "<table border=\"1\" class=\"dataframe\">\n",
       "  <thead>\n",
       "    <tr style=\"text-align: right;\">\n",
       "      <th></th>\n",
       "      <th>LocationID</th>\n",
       "      <th>1607</th>\n",
       "      <th>1608</th>\n",
       "      <th>1609</th>\n",
       "      <th>1610</th>\n",
       "      <th>1611</th>\n",
       "      <th>1612</th>\n",
       "      <th>1701</th>\n",
       "      <th>1702</th>\n",
       "      <th>1703</th>\n",
       "      <th>1704</th>\n",
       "      <th>1705</th>\n",
       "      <th>1706</th>\n",
       "      <th>1707</th>\n",
       "      <th>1708</th>\n",
       "      <th>1709</th>\n",
       "      <th>1710</th>\n",
       "      <th>1711</th>\n",
       "      <th>1712</th>\n",
       "    </tr>\n",
       "  </thead>\n",
       "  <tbody>\n",
       "    <tr>\n",
       "      <th>0</th>\n",
       "      <td>1</td>\n",
       "      <td>1022.0</td>\n",
       "      <td>778.0</td>\n",
       "      <td>639.0</td>\n",
       "      <td>746.0</td>\n",
       "      <td>704.0</td>\n",
       "      <td>791.0</td>\n",
       "      <td>436.0</td>\n",
       "      <td>475.0</td>\n",
       "      <td>577.0</td>\n",
       "      <td>607.0</td>\n",
       "      <td>645.0</td>\n",
       "      <td>522.0</td>\n",
       "      <td>522.0</td>\n",
       "      <td>457.0</td>\n",
       "      <td>501.0</td>\n",
       "      <td>528.0</td>\n",
       "      <td>495.0</td>\n",
       "      <td>478.0</td>\n",
       "    </tr>\n",
       "    <tr>\n",
       "      <th>1</th>\n",
       "      <td>2</td>\n",
       "      <td>1.0</td>\n",
       "      <td>NaN</td>\n",
       "      <td>NaN</td>\n",
       "      <td>NaN</td>\n",
       "      <td>6.0</td>\n",
       "      <td>NaN</td>\n",
       "      <td>NaN</td>\n",
       "      <td>1.0</td>\n",
       "      <td>NaN</td>\n",
       "      <td>NaN</td>\n",
       "      <td>1.0</td>\n",
       "      <td>NaN</td>\n",
       "      <td>7.0</td>\n",
       "      <td>10.0</td>\n",
       "      <td>6.0</td>\n",
       "      <td>2.0</td>\n",
       "      <td>1.0</td>\n",
       "      <td>NaN</td>\n",
       "    </tr>\n",
       "    <tr>\n",
       "      <th>2</th>\n",
       "      <td>3</td>\n",
       "      <td>694.0</td>\n",
       "      <td>612.0</td>\n",
       "      <td>607.0</td>\n",
       "      <td>595.0</td>\n",
       "      <td>550.0</td>\n",
       "      <td>563.0</td>\n",
       "      <td>436.0</td>\n",
       "      <td>496.0</td>\n",
       "      <td>629.0</td>\n",
       "      <td>483.0</td>\n",
       "      <td>511.0</td>\n",
       "      <td>559.0</td>\n",
       "      <td>553.0</td>\n",
       "      <td>614.0</td>\n",
       "      <td>636.0</td>\n",
       "      <td>614.0</td>\n",
       "      <td>672.0</td>\n",
       "      <td>736.0</td>\n",
       "    </tr>\n",
       "    <tr>\n",
       "      <th>3</th>\n",
       "      <td>4</td>\n",
       "      <td>2900.0</td>\n",
       "      <td>2710.0</td>\n",
       "      <td>2481.0</td>\n",
       "      <td>2600.0</td>\n",
       "      <td>2295.0</td>\n",
       "      <td>2338.0</td>\n",
       "      <td>1980.0</td>\n",
       "      <td>2063.0</td>\n",
       "      <td>2024.0</td>\n",
       "      <td>2064.0</td>\n",
       "      <td>2003.0</td>\n",
       "      <td>1727.0</td>\n",
       "      <td>1779.0</td>\n",
       "      <td>1581.0</td>\n",
       "      <td>1603.0</td>\n",
       "      <td>1783.0</td>\n",
       "      <td>1504.0</td>\n",
       "      <td>1306.0</td>\n",
       "    </tr>\n",
       "    <tr>\n",
       "      <th>4</th>\n",
       "      <td>5</td>\n",
       "      <td>9.0</td>\n",
       "      <td>3.0</td>\n",
       "      <td>9.0</td>\n",
       "      <td>8.0</td>\n",
       "      <td>11.0</td>\n",
       "      <td>11.0</td>\n",
       "      <td>NaN</td>\n",
       "      <td>5.0</td>\n",
       "      <td>8.0</td>\n",
       "      <td>10.0</td>\n",
       "      <td>13.0</td>\n",
       "      <td>11.0</td>\n",
       "      <td>8.0</td>\n",
       "      <td>3.0</td>\n",
       "      <td>13.0</td>\n",
       "      <td>9.0</td>\n",
       "      <td>6.0</td>\n",
       "      <td>2.0</td>\n",
       "    </tr>\n",
       "  </tbody>\n",
       "</table>\n",
       "</div>"
      ],
      "text/plain": [
       "   LocationID    1607    1608    1609    1610    1611    1612    1701    1702  \\\n",
       "0           1  1022.0   778.0   639.0   746.0   704.0   791.0   436.0   475.0   \n",
       "1           2     1.0     NaN     NaN     NaN     6.0     NaN     NaN     1.0   \n",
       "2           3   694.0   612.0   607.0   595.0   550.0   563.0   436.0   496.0   \n",
       "3           4  2900.0  2710.0  2481.0  2600.0  2295.0  2338.0  1980.0  2063.0   \n",
       "4           5     9.0     3.0     9.0     8.0    11.0    11.0     NaN     5.0   \n",
       "\n",
       "     1703    1704    1705    1706    1707    1708    1709    1710    1711  \\\n",
       "0   577.0   607.0   645.0   522.0   522.0   457.0   501.0   528.0   495.0   \n",
       "1     NaN     NaN     1.0     NaN     7.0    10.0     6.0     2.0     1.0   \n",
       "2   629.0   483.0   511.0   559.0   553.0   614.0   636.0   614.0   672.0   \n",
       "3  2024.0  2064.0  2003.0  1727.0  1779.0  1581.0  1603.0  1783.0  1504.0   \n",
       "4     8.0    10.0    13.0    11.0     8.0     3.0    13.0     9.0     6.0   \n",
       "\n",
       "     1712  \n",
       "0   478.0  \n",
       "1     NaN  \n",
       "2   736.0  \n",
       "3  1306.0  \n",
       "4     2.0  "
      ]
     },
     "execution_count": 69,
     "metadata": {},
     "output_type": "execute_result"
    }
   ],
   "source": [
    "df_drop.head()"
   ]
  },
  {
   "cell_type": "code",
   "execution_count": 70,
   "metadata": {},
   "outputs": [],
   "source": [
    "df_pick.to_csv('taxi_data/green_taxi_pick_monthly(16-17).csv')\n",
    "df_drop.to_csv('taxi_data/green_taxi_drop_monthly(16-17).csv')"
   ]
  },
  {
   "cell_type": "code",
   "execution_count": 74,
   "metadata": {},
   "outputs": [],
   "source": [
    "# test1 = pd.read_csv('taxi_data/green_taxi_pick_monthly(16-17).csv')\n",
    "# test2 = pd.read_csv('taxi_data/green_taxi_pick_monthly(16-17).csv')\n",
    "# test1"
   ]
  },
  {
   "cell_type": "code",
   "execution_count": 73,
   "metadata": {},
   "outputs": [],
   "source": [
    "#test2"
   ]
  },
  {
   "cell_type": "code",
   "execution_count": null,
   "metadata": {},
   "outputs": [],
   "source": []
  }
 ],
 "metadata": {
  "kernelspec": {
   "display_name": "PUI2016_Python3",
   "language": "python",
   "name": "pui2016_python3"
  },
  "language_info": {
   "codemirror_mode": {
    "name": "ipython",
    "version": 3
   },
   "file_extension": ".py",
   "mimetype": "text/x-python",
   "name": "python",
   "nbconvert_exporter": "python",
   "pygments_lexer": "ipython3",
   "version": "3.5.4"
  }
 },
 "nbformat": 4,
 "nbformat_minor": 2
}
