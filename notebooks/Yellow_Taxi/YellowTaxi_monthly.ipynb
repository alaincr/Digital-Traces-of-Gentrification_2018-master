{
 "cells": [
  {
   "cell_type": "markdown",
   "metadata": {},
   "source": [
    "### Author: Baoling Zhou\n",
    "### This notebook script is created for reconstructering NYC Yellow Taxi Data into Spatial-temporal format in terms of zipcode area and monthly total passenger counts.\n",
    "### Everytime before running the script, please restart the kernel and define the year and month you want to analyze. It usually takes 40 minutes to run a monthly data in size of 2 G."
   ]
  },
  {
   "cell_type": "code",
   "execution_count": 64,
   "metadata": {},
   "outputs": [
    {
     "name": "stdout",
     "output_type": "stream",
     "text": [
      "Populating the interactive namespace from numpy and matplotlib\n"
     ]
    },
    {
     "name": "stderr",
     "output_type": "stream",
     "text": [
      "/usr/local/Anaconda3-5.0.0-Linux-x86_64/envs/PUI2016_Python3/lib/python3.5/site-packages/IPython/core/magics/pylab.py:161: UserWarning: pylab import has clobbered these variables: ['plt', 'test']\n",
      "`%matplotlib` prevents importing * from pylab and numpy\n",
      "  \"\\n`%matplotlib` prevents importing * from pylab and numpy\"\n"
     ]
    }
   ],
   "source": [
    "import pandas as pd\n",
    "import numpy as np\n",
    "import matplotlib.pylab as plt\n",
    "import geopandas as gpd\n",
    "from shapely.geometry import Point\n",
    "import fiona\n",
    "import math\n",
    "%pylab inline"
   ]
  },
  {
   "cell_type": "markdown",
   "metadata": {},
   "source": [
    "## Define the year and month to process"
   ]
  },
  {
   "cell_type": "code",
   "execution_count": 65,
   "metadata": {},
   "outputs": [
    {
     "name": "stdout",
     "output_type": "stream",
     "text": [
      "1604\n"
     ]
    }
   ],
   "source": [
    "Year = {9:'09',10:'10',11:'11',12:'12',13:'13',14:'14',15:'15',16:'16',17:'17'}\n",
    "Month = {1:'01',2:'02',3:'03',4:'04',5:'05',6:'06',7:'07',8:'08',9:'09',10:'10',11:'11',12:'12'}\n",
    "\n",
    "year = Year[16] #define the year\n",
    "month = Month[4] #define the month\n",
    "print (year+month)"
   ]
  },
  {
   "cell_type": "markdown",
   "metadata": {},
   "source": [
    "## Download the taxi data"
   ]
  },
  {
   "cell_type": "code",
   "execution_count": 66,
   "metadata": {},
   "outputs": [],
   "source": [
    "#Download the data\n",
    "df = pd.read_csv('https://s3.amazonaws.com/nyc-tlc/trip+data/yellow_tripdata_20' + year + '-' + month + '.csv')"
   ]
  },
  {
   "cell_type": "code",
   "execution_count": 67,
   "metadata": {},
   "outputs": [
    {
     "name": "stdout",
     "output_type": "stream",
     "text": [
      "<class 'pandas.core.frame.DataFrame'>\n",
      "RangeIndex: 11934338 entries, 0 to 11934337\n",
      "Data columns (total 19 columns):\n",
      "VendorID                 int64\n",
      "tpep_pickup_datetime     object\n",
      "tpep_dropoff_datetime    object\n",
      "passenger_count          int64\n",
      "trip_distance            float64\n",
      "pickup_longitude         float64\n",
      "pickup_latitude          float64\n",
      "RatecodeID               int64\n",
      "store_and_fwd_flag       object\n",
      "dropoff_longitude        float64\n",
      "dropoff_latitude         float64\n",
      "payment_type             int64\n",
      "fare_amount              float64\n",
      "extra                    float64\n",
      "mta_tax                  float64\n",
      "tip_amount               float64\n",
      "tolls_amount             float64\n",
      "improvement_surcharge    float64\n",
      "total_amount             float64\n",
      "dtypes: float64(12), int64(4), object(3)\n",
      "memory usage: 1.7+ GB\n"
     ]
    }
   ],
   "source": [
    "df.info()"
   ]
  },
  {
   "cell_type": "code",
   "execution_count": 68,
   "metadata": {},
   "outputs": [
    {
     "data": {
      "text/plain": [
       "Index(['VendorID', 'tpep_pickup_datetime', 'tpep_dropoff_datetime',\n",
       "       'passenger_count', 'trip_distance', 'pickup_longitude',\n",
       "       'pickup_latitude', 'RatecodeID', 'store_and_fwd_flag',\n",
       "       'dropoff_longitude', 'dropoff_latitude', 'payment_type', 'fare_amount',\n",
       "       'extra', 'mta_tax', 'tip_amount', 'tolls_amount',\n",
       "       'improvement_surcharge', 'total_amount'],\n",
       "      dtype='object')"
      ]
     },
     "execution_count": 68,
     "metadata": {},
     "output_type": "execute_result"
    }
   ],
   "source": [
    "df.columns"
   ]
  },
  {
   "cell_type": "code",
   "execution_count": 69,
   "metadata": {},
   "outputs": [
    {
     "name": "stdout",
     "output_type": "stream",
     "text": [
      "<class 'pandas.core.frame.DataFrame'>\n",
      "RangeIndex: 11934338 entries, 0 to 11934337\n",
      "Data columns (total 5 columns):\n",
      "passenger_count      int64\n",
      "pickup_longitude     float64\n",
      "pickup_latitude      float64\n",
      "dropoff_longitude    float64\n",
      "dropoff_latitude     float64\n",
      "dtypes: float64(4), int64(1)\n",
      "memory usage: 455.3 MB\n"
     ]
    }
   ],
   "source": [
    "## remain the useful columns, reduce the memory stored in the kernel\n",
    "df = df[['passenger_count','pickup_longitude', 'pickup_latitude', 'dropoff_longitude', 'dropoff_latitude']]\n",
    "df.info()"
   ]
  },
  {
   "cell_type": "markdown",
   "metadata": {},
   "source": [
    "## Step 1: Clean component data"
   ]
  },
  {
   "cell_type": "markdown",
   "metadata": {},
   "source": [
    "## Step 2: Concate 3 components into a month"
   ]
  },
  {
   "cell_type": "code",
   "execution_count": 70,
   "metadata": {},
   "outputs": [
    {
     "data": {
      "text/html": [
       "<div>\n",
       "<table border=\"1\" class=\"dataframe\">\n",
       "  <thead>\n",
       "    <tr style=\"text-align: right;\">\n",
       "      <th></th>\n",
       "      <th>passenger_count</th>\n",
       "      <th>pickup_longitude</th>\n",
       "      <th>pickup_latitude</th>\n",
       "      <th>dropoff_longitude</th>\n",
       "      <th>dropoff_latitude</th>\n",
       "    </tr>\n",
       "  </thead>\n",
       "  <tbody>\n",
       "    <tr>\n",
       "      <th>0</th>\n",
       "      <td>1</td>\n",
       "      <td>-73.976883</td>\n",
       "      <td>40.758495</td>\n",
       "      <td>-73.977669</td>\n",
       "      <td>40.753902</td>\n",
       "    </tr>\n",
       "    <tr>\n",
       "      <th>1</th>\n",
       "      <td>2</td>\n",
       "      <td>-73.985207</td>\n",
       "      <td>40.757294</td>\n",
       "      <td>-73.989288</td>\n",
       "      <td>40.732658</td>\n",
       "    </tr>\n",
       "    <tr>\n",
       "      <th>2</th>\n",
       "      <td>2</td>\n",
       "      <td>-73.979202</td>\n",
       "      <td>40.758869</td>\n",
       "      <td>-73.990677</td>\n",
       "      <td>40.751320</td>\n",
       "    </tr>\n",
       "    <tr>\n",
       "      <th>3</th>\n",
       "      <td>5</td>\n",
       "      <td>-73.984856</td>\n",
       "      <td>40.767723</td>\n",
       "      <td>-73.990829</td>\n",
       "      <td>40.751186</td>\n",
       "    </tr>\n",
       "    <tr>\n",
       "      <th>4</th>\n",
       "      <td>2</td>\n",
       "      <td>-73.863739</td>\n",
       "      <td>40.769470</td>\n",
       "      <td>-73.976814</td>\n",
       "      <td>40.775284</td>\n",
       "    </tr>\n",
       "  </tbody>\n",
       "</table>\n",
       "</div>"
      ],
      "text/plain": [
       "   passenger_count  pickup_longitude  pickup_latitude  dropoff_longitude  \\\n",
       "0                1        -73.976883        40.758495         -73.977669   \n",
       "1                2        -73.985207        40.757294         -73.989288   \n",
       "2                2        -73.979202        40.758869         -73.990677   \n",
       "3                5        -73.984856        40.767723         -73.990829   \n",
       "4                2        -73.863739        40.769470         -73.976814   \n",
       "\n",
       "   dropoff_latitude  \n",
       "0         40.753902  \n",
       "1         40.732658  \n",
       "2         40.751320  \n",
       "3         40.751186  \n",
       "4         40.775284  "
      ]
     },
     "execution_count": 70,
     "metadata": {},
     "output_type": "execute_result"
    }
   ],
   "source": [
    "df.head()"
   ]
  },
  {
   "cell_type": "code",
   "execution_count": 71,
   "metadata": {},
   "outputs": [
    {
     "data": {
      "text/plain": [
       "(11934338, 5)"
      ]
     },
     "execution_count": 71,
     "metadata": {},
     "output_type": "execute_result"
    }
   ],
   "source": [
    "df.shape"
   ]
  },
  {
   "cell_type": "markdown",
   "metadata": {},
   "source": [
    "### Binning by Zipcode for data with coordinates info"
   ]
  },
  {
   "cell_type": "code",
   "execution_count": 72,
   "metadata": {},
   "outputs": [],
   "source": [
    "#read zipcode shape file, define a constant crs\n",
    "zipcode = gpd.read_file('ZIP_CODE/ZIP_CODE_040114.shp')\n",
    "zipcode = zipcode[['ZIPCODE','geometry']]\n",
    "zipcode = zipcode.to_crs(epsg=4326)\n",
    "crs = {'init' :'epsg:4326'}"
   ]
  },
  {
   "cell_type": "code",
   "execution_count": 73,
   "metadata": {},
   "outputs": [],
   "source": [
    "# pick = [Point(xy) for xy in zip(df.pickup_longitude, df.pickup_latitude)]\n",
    "# drop = [Point(xy) for xy in zip(df.dropoff_longitude, df.dropoff_latitude)]"
   ]
  },
  {
   "cell_type": "code",
   "execution_count": 74,
   "metadata": {},
   "outputs": [
    {
     "name": "stdout",
     "output_type": "stream",
     "text": [
      "0/11\n",
      "1/11\n",
      "2/11\n",
      "3/11\n",
      "4/11\n",
      "5/11\n",
      "6/11\n",
      "7/11\n",
      "8/11\n",
      "9/11\n",
      "10/11\n",
      "11/11\n"
     ]
    }
   ],
   "source": [
    "#create the coordinates columns fulfilling the geodataframe format\n",
    "pick = []\n",
    "drop = []\n",
    "for i in range(math.floor(len(df)/1000000)+1):\n",
    "    start = 1000000 * i\n",
    "    if i < math.floor(len(df)/1000000):\n",
    "        end = 1000000 * (i+1)\n",
    "    else:\n",
    "        end = len(df)\n",
    "    test = df.iloc[start:end,:]\n",
    "    pick_ = [Point(xy) for xy in zip(test.pickup_longitude, test.pickup_latitude)]\n",
    "    drop_ = [Point(xy) for xy in zip(test.dropoff_longitude, test.dropoff_latitude)]\n",
    "    pick = pick + pick_\n",
    "    drop = drop + drop_\n",
    "    print(str(i) + '/' + str(math.floor(len(df)/1000000)))"
   ]
  },
  {
   "cell_type": "code",
   "execution_count": 75,
   "metadata": {},
   "outputs": [
    {
     "data": {
      "text/plain": [
       "11934338"
      ]
     },
     "execution_count": 75,
     "metadata": {},
     "output_type": "execute_result"
    }
   ],
   "source": [
    "#double check the length of the geometry list\n",
    "len(pick)"
   ]
  },
  {
   "cell_type": "code",
   "execution_count": 76,
   "metadata": {},
   "outputs": [],
   "source": [
    "#convert the dataframe into geodataframe\n",
    "pick_gdf = gpd.GeoDataFrame(df[['passenger_count']], geometry=pick, crs=crs)\n",
    "drop_gdf = gpd.GeoDataFrame(df[['passenger_count']], geometry=drop, crs=crs)"
   ]
  },
  {
   "cell_type": "code",
   "execution_count": 77,
   "metadata": {},
   "outputs": [],
   "source": [
    "#clean the list, reduce memory stored in the kernel\n",
    "pick = []\n",
    "drop = []"
   ]
  },
  {
   "cell_type": "code",
   "execution_count": 78,
   "metadata": {},
   "outputs": [],
   "source": [
    "#read the template as an empty table to prepare binning\n",
    "tmp1 = pd.read_csv('Yellow_taxi_data/binning_tmp.csv')\n",
    "tmp2 = pd.read_csv('Yellow_taxi_data/binning_tmp.csv')\n",
    "del tmp1['Unnamed: 0']\n",
    "del tmp2['Unnamed: 0']"
   ]
  },
  {
   "cell_type": "code",
   "execution_count": 79,
   "metadata": {},
   "outputs": [
    {
     "name": "stdout",
     "output_type": "stream",
     "text": [
      "Warning: CRS does not match!\n",
      "0/11\n",
      "Warning: CRS does not match!\n",
      "1/11\n",
      "Warning: CRS does not match!\n",
      "2/11\n",
      "Warning: CRS does not match!\n",
      "3/11\n",
      "Warning: CRS does not match!\n",
      "4/11\n",
      "Warning: CRS does not match!\n",
      "5/11\n",
      "Warning: CRS does not match!\n",
      "6/11\n",
      "Warning: CRS does not match!\n",
      "7/11\n",
      "Warning: CRS does not match!\n",
      "8/11\n",
      "Warning: CRS does not match!\n",
      "9/11\n",
      "Warning: CRS does not match!\n",
      "10/11\n",
      "Warning: CRS does not match!\n",
      "11/11\n"
     ]
    }
   ],
   "source": [
    "# binning the record to identify the zipcode for each pick-up coordinates\n",
    "for i in range(math.floor(len(pick_gdf)/1000000)+1):\n",
    "    start = 1000000 * i\n",
    "    if i < math.floor(len(pick_gdf)/1000000):\n",
    "        end = 1000000 * (i+1)\n",
    "    else:\n",
    "        end = len(pick_gdf)\n",
    "    test = pick_gdf.iloc[start:end,:]\n",
    "    test = gpd.sjoin(test, zipcode, how='right', op='within').reset_index()\n",
    "    tmp1 = pd.concat([tmp1,test])\n",
    "    print(str(i) + '/' + str(math.floor(len(pick_gdf)/1000000)))"
   ]
  },
  {
   "cell_type": "code",
   "execution_count": 80,
   "metadata": {},
   "outputs": [
    {
     "name": "stdout",
     "output_type": "stream",
     "text": [
      "Warning: CRS does not match!\n",
      "0/11\n",
      "Warning: CRS does not match!\n",
      "1/11\n",
      "Warning: CRS does not match!\n",
      "2/11\n",
      "Warning: CRS does not match!\n",
      "3/11\n",
      "Warning: CRS does not match!\n",
      "4/11\n",
      "Warning: CRS does not match!\n",
      "5/11\n",
      "Warning: CRS does not match!\n",
      "6/11\n",
      "Warning: CRS does not match!\n",
      "7/11\n",
      "Warning: CRS does not match!\n",
      "8/11\n",
      "Warning: CRS does not match!\n",
      "9/11\n",
      "Warning: CRS does not match!\n",
      "10/11\n",
      "Warning: CRS does not match!\n",
      "11/11\n"
     ]
    }
   ],
   "source": [
    "# binning the record to identify the zipcode for each drop-off coordinates\n",
    "for i in range(math.floor(len(drop_gdf)/1000000)+1):\n",
    "    start = 1000000 * i\n",
    "    if i < math.floor(len(drop_gdf)/1000000):\n",
    "        end = 1000000 * (i+1)\n",
    "    else:\n",
    "        end = len(drop_gdf)\n",
    "    test = drop_gdf.iloc[start:end,:]\n",
    "    test = gpd.sjoin(test, zipcode, how='right', op='within').reset_index()\n",
    "    tmp2 = pd.concat([tmp2,test])\n",
    "    print(str(i) + '/' + str(math.floor(len(drop_gdf)/1000000)))"
   ]
  },
  {
   "cell_type": "code",
   "execution_count": 81,
   "metadata": {},
   "outputs": [],
   "source": [
    "#delete the first row which is the beginning test record\n",
    "pick_gdf = tmp1.iloc[1:,:]\n",
    "drop_gdf = tmp2.iloc[1:,:]"
   ]
  },
  {
   "cell_type": "code",
   "execution_count": 82,
   "metadata": {},
   "outputs": [],
   "source": [
    "#clean the dataframe, reduce memory stored in the kernel\n",
    "tmp1=[]\n",
    "tmp2=[]"
   ]
  },
  {
   "cell_type": "code",
   "execution_count": 83,
   "metadata": {},
   "outputs": [],
   "source": [
    "# pick_gdf = gpd.sjoin(pick_gdf, zipcode, how='right', op='within').reset_index()\n",
    "# drop_gdf = gpd.sjoin(drop_gdf, zipcode, how='right', op='within').reset_index()"
   ]
  },
  {
   "cell_type": "code",
   "execution_count": 84,
   "metadata": {},
   "outputs": [],
   "source": [
    "#delete the irrelevant columns\n",
    "del pick_gdf['index_right']\n",
    "del pick_gdf['index_left']\n",
    "del pick_gdf['geometry']\n",
    "\n",
    "del drop_gdf['index_right']\n",
    "del drop_gdf['index_left']\n",
    "del drop_gdf['geometry']"
   ]
  },
  {
   "cell_type": "code",
   "execution_count": 85,
   "metadata": {},
   "outputs": [],
   "source": [
    "#fill the nan as 0\n",
    "pick_gdf = pick_gdf.fillna(0)\n",
    "drop_gdf = drop_gdf.fillna(0)"
   ]
  },
  {
   "cell_type": "code",
   "execution_count": 86,
   "metadata": {},
   "outputs": [],
   "source": [
    "# Group records by Zipcode\n",
    "taxi_pick = pick_gdf.groupby(['ZIPCODE']).passenger_count.sum().reset_index().fillna(0)\n",
    "taxi_drop = drop_gdf.groupby(['ZIPCODE']).passenger_count.sum().reset_index().fillna(0)"
   ]
  },
  {
   "cell_type": "markdown",
   "metadata": {},
   "source": [
    "## Step 3: save monthly data into a column"
   ]
  },
  {
   "cell_type": "code",
   "execution_count": 87,
   "metadata": {},
   "outputs": [],
   "source": [
    "# taxi_pick.columns = ['LocationID',1612]\n",
    "# taxi_drop.columns = ['LocationID',1612]"
   ]
  },
  {
   "cell_type": "code",
   "execution_count": 88,
   "metadata": {},
   "outputs": [],
   "source": [
    "#rename the columns based on month\n",
    "taxi_pick.columns = ['ZIPCODE',int(year+month)]\n",
    "taxi_drop.columns = ['ZIPCODE',int(year+month)]"
   ]
  },
  {
   "cell_type": "code",
   "execution_count": 89,
   "metadata": {},
   "outputs": [
    {
     "data": {
      "text/html": [
       "<div>\n",
       "<table border=\"1\" class=\"dataframe\">\n",
       "  <thead>\n",
       "    <tr style=\"text-align: right;\">\n",
       "      <th></th>\n",
       "      <th>ZIPCODE</th>\n",
       "      <th>1604</th>\n",
       "    </tr>\n",
       "  </thead>\n",
       "  <tbody>\n",
       "    <tr>\n",
       "      <th>0</th>\n",
       "      <td>00083</td>\n",
       "      <td>242666.0</td>\n",
       "    </tr>\n",
       "    <tr>\n",
       "      <th>1</th>\n",
       "      <td>10001</td>\n",
       "      <td>1125706.0</td>\n",
       "    </tr>\n",
       "    <tr>\n",
       "      <th>2</th>\n",
       "      <td>10002</td>\n",
       "      <td>345121.0</td>\n",
       "    </tr>\n",
       "    <tr>\n",
       "      <th>3</th>\n",
       "      <td>10003</td>\n",
       "      <td>840816.0</td>\n",
       "    </tr>\n",
       "    <tr>\n",
       "      <th>4</th>\n",
       "      <td>10004</td>\n",
       "      <td>105901.0</td>\n",
       "    </tr>\n",
       "  </tbody>\n",
       "</table>\n",
       "</div>"
      ],
      "text/plain": [
       "  ZIPCODE       1604\n",
       "0   00083   242666.0\n",
       "1   10001  1125706.0\n",
       "2   10002   345121.0\n",
       "3   10003   840816.0\n",
       "4   10004   105901.0"
      ]
     },
     "execution_count": 89,
     "metadata": {},
     "output_type": "execute_result"
    }
   ],
   "source": [
    "taxi_drop.head()"
   ]
  },
  {
   "cell_type": "code",
   "execution_count": 90,
   "metadata": {},
   "outputs": [],
   "source": [
    "pick = taxi_pick\n",
    "drop = taxi_drop"
   ]
  },
  {
   "cell_type": "code",
   "execution_count": 91,
   "metadata": {},
   "outputs": [
    {
     "data": {
      "text/html": [
       "<div>\n",
       "<table border=\"1\" class=\"dataframe\">\n",
       "  <thead>\n",
       "    <tr style=\"text-align: right;\">\n",
       "      <th></th>\n",
       "      <th>ZIPCODE</th>\n",
       "      <th>1604</th>\n",
       "    </tr>\n",
       "  </thead>\n",
       "  <tbody>\n",
       "    <tr>\n",
       "      <th>0</th>\n",
       "      <td>00083</td>\n",
       "      <td>273832.0</td>\n",
       "    </tr>\n",
       "    <tr>\n",
       "      <th>1</th>\n",
       "      <td>10001</td>\n",
       "      <td>1256293.0</td>\n",
       "    </tr>\n",
       "    <tr>\n",
       "      <th>2</th>\n",
       "      <td>10002</td>\n",
       "      <td>381489.0</td>\n",
       "    </tr>\n",
       "    <tr>\n",
       "      <th>3</th>\n",
       "      <td>10003</td>\n",
       "      <td>1002317.0</td>\n",
       "    </tr>\n",
       "    <tr>\n",
       "      <th>4</th>\n",
       "      <td>10004</td>\n",
       "      <td>95132.0</td>\n",
       "    </tr>\n",
       "  </tbody>\n",
       "</table>\n",
       "</div>"
      ],
      "text/plain": [
       "  ZIPCODE       1604\n",
       "0   00083   273832.0\n",
       "1   10001  1256293.0\n",
       "2   10002   381489.0\n",
       "3   10003  1002317.0\n",
       "4   10004    95132.0"
      ]
     },
     "execution_count": 91,
     "metadata": {},
     "output_type": "execute_result"
    }
   ],
   "source": [
    "pick.head()"
   ]
  },
  {
   "cell_type": "code",
   "execution_count": 92,
   "metadata": {},
   "outputs": [
    {
     "data": {
      "text/html": [
       "<div>\n",
       "<table border=\"1\" class=\"dataframe\">\n",
       "  <thead>\n",
       "    <tr style=\"text-align: right;\">\n",
       "      <th></th>\n",
       "      <th>ZIPCODE</th>\n",
       "      <th>1604</th>\n",
       "    </tr>\n",
       "  </thead>\n",
       "  <tbody>\n",
       "    <tr>\n",
       "      <th>0</th>\n",
       "      <td>00083</td>\n",
       "      <td>242666.0</td>\n",
       "    </tr>\n",
       "    <tr>\n",
       "      <th>1</th>\n",
       "      <td>10001</td>\n",
       "      <td>1125706.0</td>\n",
       "    </tr>\n",
       "    <tr>\n",
       "      <th>2</th>\n",
       "      <td>10002</td>\n",
       "      <td>345121.0</td>\n",
       "    </tr>\n",
       "    <tr>\n",
       "      <th>3</th>\n",
       "      <td>10003</td>\n",
       "      <td>840816.0</td>\n",
       "    </tr>\n",
       "    <tr>\n",
       "      <th>4</th>\n",
       "      <td>10004</td>\n",
       "      <td>105901.0</td>\n",
       "    </tr>\n",
       "  </tbody>\n",
       "</table>\n",
       "</div>"
      ],
      "text/plain": [
       "  ZIPCODE       1604\n",
       "0   00083   242666.0\n",
       "1   10001  1125706.0\n",
       "2   10002   345121.0\n",
       "3   10003   840816.0\n",
       "4   10004   105901.0"
      ]
     },
     "execution_count": 92,
     "metadata": {},
     "output_type": "execute_result"
    }
   ],
   "source": [
    "drop.head()"
   ]
  },
  {
   "cell_type": "code",
   "execution_count": 93,
   "metadata": {},
   "outputs": [
    {
     "data": {
      "text/plain": [
       "(248, 2)"
      ]
     },
     "execution_count": 93,
     "metadata": {},
     "output_type": "execute_result"
    }
   ],
   "source": [
    "pick.shape"
   ]
  },
  {
   "cell_type": "code",
   "execution_count": 94,
   "metadata": {},
   "outputs": [
    {
     "data": {
      "text/plain": [
       "(248, 2)"
      ]
     },
     "execution_count": 94,
     "metadata": {},
     "output_type": "execute_result"
    }
   ],
   "source": [
    "drop.shape"
   ]
  },
  {
   "cell_type": "markdown",
   "metadata": {},
   "source": [
    "## Saving the monthly data"
   ]
  },
  {
   "cell_type": "code",
   "execution_count": 96,
   "metadata": {},
   "outputs": [],
   "source": [
    "#the name of the file can be redefine\n",
    "#a sample is \"Yellow_taxi_data/2016/Yellow16_drop_01.csv\"\n",
    "pick.to_csv('Yellow_taxi_data/20'+ year +'/Yellow' + year + '_pick_'+ month + '.csv')\n",
    "drop.to_csv('Yellow_taxi_data/20'+ year +'/Yellow' + year + '_drop_'+ month + '.csv')"
   ]
  },
  {
   "cell_type": "markdown",
   "metadata": {},
   "source": [
    "## Merge monthly data"
   ]
  },
  {
   "cell_type": "code",
   "execution_count": 98,
   "metadata": {},
   "outputs": [],
   "source": [
    "# #merge the current month data with the previous cumulative monthly data\n",
    "# #a sample is \"Yellow_taxi_data/2016/Yellow16_drop_monthly.csv\"\n",
    "# df_pick = pd.read_csv('Yellow_taxi_data/20'+ year +'/Yellow' + year + '_pick_monthly1.csv')\n",
    "# df_drop = pd.read_csv('Yellow_taxi_data/20'+ year +'/Yellow' + year + '_drop_monthly1.csv')\n",
    "# del df_pick['Unnamed: 0']\n",
    "# del df_drop['Unnamed: 0']\n",
    "\n",
    "# pick16 = pd.read_csv('Yellow_taxi_data/20'+ year +'/Yellow'+ year + '_pick_'+ month + '.csv')\n",
    "# drop16 = pd.read_csv('Yellow_taxi_data/20'+ year +'/Yellow'+ year + '_drop_'+ month + '.csv')\n",
    "# del pick16['Unnamed: 0']\n",
    "# del drop16['Unnamed: 0']\n",
    "\n",
    "# df_pick = pd.merge(df_pick, pick16, how='outer', on = 'ZIPCODE')\n",
    "# df_drop = pd.merge(df_drop, drop16, how='outer', on = 'ZIPCODE')"
   ]
  },
  {
   "cell_type": "code",
   "execution_count": 99,
   "metadata": {},
   "outputs": [],
   "source": [
    "#year = Year[16] #define the year\n",
    "#read the first month data\n",
    "df_pick = pd.read_csv('Yellow_taxi_data/20'+ year +'/Yellow'+ year + '_pick_'+ Month[1] + '.csv')\n",
    "df_drop = pd.read_csv('Yellow_taxi_data/20'+ year +'/Yellow'+ year + '_drop_'+ Month[1] + '.csv')\n",
    "del df_pick['Unnamed: 0']\n",
    "del df_drop['Unnamed: 0']\n",
    "\n",
    "#merge the monthly data one by one\n",
    "for i in range(2,13):\n",
    "    next_pick = pd.read_csv('Yellow_taxi_data/20'+ year +'/Yellow'+ year + '_pick_'+ Month[i] + '.csv')\n",
    "    next_drop = pd.read_csv('Yellow_taxi_data/20'+ year +'/Yellow'+ year + '_drop_'+ Month[i] + '.csv')\n",
    "    del next_pick['Unnamed: 0']\n",
    "    del next_drop['Unnamed: 0']\n",
    "    df_pick = pd.merge(df_pick, next_pick,how='outer', on = 'ZIPCODE')\n",
    "    df_drop = pd.merge(df_drop, next_drop,how='outer', on = 'ZIPCODE')"
   ]
  },
  {
   "cell_type": "code",
   "execution_count": 100,
   "metadata": {},
   "outputs": [],
   "source": [
    "df_pick.to_csv('Yellow_taxi_data/20'+ year +'/Yellow' + year + '_pick_monthly1.csv')\n",
    "df_drop.to_csv('Yellow_taxi_data/20'+ year +'/Yellow' + year + '_drop_monthly1.csv')"
   ]
  },
  {
   "cell_type": "markdown",
   "metadata": {},
   "source": [
    "## Merge yearly data"
   ]
  },
  {
   "cell_type": "code",
   "execution_count": null,
   "metadata": {},
   "outputs": [],
   "source": [
    "# #year = Year[16] #define the year\n",
    "# df_pick = pd.read_csv('Yellow_taxi_data/20'+ Year[9] +'/Yellow'+ year + '_pick_monthly.csv')\n",
    "# df_drop = pd.read_csv('Yellow_taxi_data/20'+ Year[9] +'/Yellow'+ year + '_pick_monthly.csv')\n",
    "# del df_pick['Unnamed: 0']\n",
    "# del df_drop['Unnamed: 0']\n",
    "\n",
    "# pick16 = pd.read_csv('Yellow_taxi_data/20'+ Year[16] +'/Yellow' + Year[16] + '_pick_monthly1.csv')\n",
    "# drop16 = pd.read_csv('Yellow_taxi_data/20'+ Year[16] +'/Yellow' + Year[16] + '_pick_monthly1.csv')\n",
    "# del pick16['Unnamed: 0']\n",
    "# del drop16['Unnamed: 0']\n",
    "\n",
    "# #merge from 2009 to 2015\n",
    "# for i in range(10,16): #merge 09-15\n",
    "#     next_pick = pd.read_csv('Yellow_taxi_data/20'+ Year[i] +'/Yellow'+ year + '_pick_'+ Month[i] + '.csv')\n",
    "#     next_drop = pd.read_csv('Yellow_taxi_data/20'+ Year[i] +'/Yellow'+ year + '_drop_'+ Month[i] + '.csv')\n",
    "#     del next_pick['Unnamed: 0']\n",
    "#     del next_drop['Unnamed: 0']\n",
    "#     df_pick = pd.merge(df_pick, next_pick,how='outer', on = 'ZIPCODE')\n",
    "#     df_drop = pd.merge(df_drop, next_drop,how='outer', on = 'ZIPCODE')\n",
    "\n",
    "# #merge df_pick with 2016\n",
    "# df_pick = pd.merge(df_pick, pick16, how='outer', on = 'ZIPCODE') \n",
    "# df_drop = pd.merge(df_drop, drop16, how='outer', on = 'ZIPCODE')"
   ]
  },
  {
   "cell_type": "code",
   "execution_count": null,
   "metadata": {},
   "outputs": [],
   "source": [
    "# df_pick"
   ]
  },
  {
   "cell_type": "code",
   "execution_count": null,
   "metadata": {},
   "outputs": [],
   "source": [
    "# df_drop"
   ]
  },
  {
   "cell_type": "code",
   "execution_count": null,
   "metadata": {},
   "outputs": [],
   "source": [
    "# df_pick.to_csv('Yellow_taxi_data/Yellow_taxi' + year + '_pick_monthly(09-16).csv')\n",
    "# df_drop.to_csv('Yellow_taxi_data/Yellow_taxi' + year + '_drop_monthly(09-16).csv')"
   ]
  },
  {
   "cell_type": "code",
   "execution_count": null,
   "metadata": {},
   "outputs": [],
   "source": []
  },
  {
   "cell_type": "code",
   "execution_count": null,
   "metadata": {},
   "outputs": [],
   "source": []
  },
  {
   "cell_type": "code",
   "execution_count": 163,
   "metadata": {},
   "outputs": [],
   "source": [
    "# test1 = pd.read_csv('Yellow_taxi_data/Yellow17_pick_monthly.csv')\n",
    "# test2 = pd.read_csv('Yellow_taxi_data/Yellow17_drop_monthly.csv')"
   ]
  },
  {
   "cell_type": "code",
   "execution_count": 164,
   "metadata": {},
   "outputs": [],
   "source": [
    "# del test1['Unnamed: 0']\n",
    "# del test2['Unnamed: 0']"
   ]
  },
  {
   "cell_type": "code",
   "execution_count": 165,
   "metadata": {},
   "outputs": [],
   "source": [
    "# test1 = pd.merge(pick,test1,how='outer',on='LocationID')\n",
    "# test2 = pd.merge(drop,test2,how='outer',on='LocationID')"
   ]
  },
  {
   "cell_type": "code",
   "execution_count": 166,
   "metadata": {},
   "outputs": [],
   "source": [
    "# test1.to_csv('Yellow_taxi_data/Yellow_pick_monthly(16-17).csv')\n",
    "# test2.to_csv('Yellow_taxi_data/Yellow_drop_monthly(16-17).csv')"
   ]
  },
  {
   "cell_type": "code",
   "execution_count": null,
   "metadata": {},
   "outputs": [],
   "source": []
  }
 ],
 "metadata": {
  "kernelspec": {
   "display_name": "PUI2016_Python3",
   "language": "python",
   "name": "pui2016_python3"
  },
  "language_info": {
   "codemirror_mode": {
    "name": "ipython",
    "version": 3
   },
   "file_extension": ".py",
   "mimetype": "text/x-python",
   "name": "python",
   "nbconvert_exporter": "python",
   "pygments_lexer": "ipython3",
   "version": "3.5.4"
  }
 },
 "nbformat": 4,
 "nbformat_minor": 2
}
